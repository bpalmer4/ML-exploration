{
 "cells": [
  {
   "cell_type": "markdown",
   "id": "coated-being",
   "metadata": {},
   "source": [
    "# Supervised Classification of Iris data"
   ]
  },
  {
   "cell_type": "markdown",
   "id": "optional-moment",
   "metadata": {
    "toc": true
   },
   "source": [
    "<h1>Table of Contents<span class=\"tocSkip\"></span></h1>\n",
    "<div class=\"toc\"><ul class=\"toc-item\"><li><span><a href=\"#imports\" data-toc-modified-id=\"imports-1\"><span class=\"toc-item-num\">1&nbsp;&nbsp;</span>imports</a></span></li><li><span><a href=\"#Get-Iris-data\" data-toc-modified-id=\"Get-Iris-data-2\"><span class=\"toc-item-num\">2&nbsp;&nbsp;</span>Get Iris data</a></span></li><li><span><a href=\"#Explore-data\" data-toc-modified-id=\"Explore-data-3\"><span class=\"toc-item-num\">3&nbsp;&nbsp;</span>Explore data</a></span></li><li><span><a href=\"#Transform-Iris\" data-toc-modified-id=\"Transform-Iris-4\"><span class=\"toc-item-num\">4&nbsp;&nbsp;</span>Transform Iris</a></span></li><li><span><a href=\"#Classification\" data-toc-modified-id=\"Classification-5\"><span class=\"toc-item-num\">5&nbsp;&nbsp;</span>Classification</a></span><ul class=\"toc-item\"><li><span><a href=\"#Decision-tree-classifier\" data-toc-modified-id=\"Decision-tree-classifier-5.1\"><span class=\"toc-item-num\">5.1&nbsp;&nbsp;</span>Decision tree classifier</a></span></li><li><span><a href=\"#Random-forest-classifier\" data-toc-modified-id=\"Random-forest-classifier-5.2\"><span class=\"toc-item-num\">5.2&nbsp;&nbsp;</span>Random forest classifier</a></span></li><li><span><a href=\"#Logistic-regression\" data-toc-modified-id=\"Logistic-regression-5.3\"><span class=\"toc-item-num\">5.3&nbsp;&nbsp;</span>Logistic regression</a></span></li><li><span><a href=\"#Gradient-boosting-classifier\" data-toc-modified-id=\"Gradient-boosting-classifier-5.4\"><span class=\"toc-item-num\">5.4&nbsp;&nbsp;</span>Gradient boosting classifier</a></span></li><li><span><a href=\"#Naive-Bayes-classifier\" data-toc-modified-id=\"Naive-Bayes-classifier-5.5\"><span class=\"toc-item-num\">5.5&nbsp;&nbsp;</span>Naive Bayes classifier</a></span></li><li><span><a href=\"#K-Nearest-Neighbor-classifier\" data-toc-modified-id=\"K-Nearest-Neighbor-classifier-5.6\"><span class=\"toc-item-num\">5.6&nbsp;&nbsp;</span>K-Nearest-Neighbor classifier</a></span></li><li><span><a href=\"#SVM-classifier\" data-toc-modified-id=\"SVM-classifier-5.7\"><span class=\"toc-item-num\">5.7&nbsp;&nbsp;</span>SVM classifier</a></span></li></ul></li><li><span><a href=\"#Results\" data-toc-modified-id=\"Results-6\"><span class=\"toc-item-num\">6&nbsp;&nbsp;</span>Results</a></span></li><li><span><a href=\"#Of-interest\" data-toc-modified-id=\"Of-interest-7\"><span class=\"toc-item-num\">7&nbsp;&nbsp;</span>Of interest</a></span><ul class=\"toc-item\"><li><span><a href=\"#T-Distributed-Stochastic-Neighboring-Entities-(t-SNE)\" data-toc-modified-id=\"T-Distributed-Stochastic-Neighboring-Entities-(t-SNE)-7.1\"><span class=\"toc-item-num\">7.1&nbsp;&nbsp;</span>T-Distributed Stochastic Neighboring Entities (t-SNE)</a></span></li></ul></li><li><span><a href=\"#The-End\" data-toc-modified-id=\"The-End-8\"><span class=\"toc-item-num\">8&nbsp;&nbsp;</span>The End</a></span></li></ul></div>"
   ]
  },
  {
   "cell_type": "markdown",
   "id": "inappropriate-consortium",
   "metadata": {},
   "source": [
    "## imports"
   ]
  },
  {
   "cell_type": "code",
   "execution_count": 1,
   "id": "smaller-acting",
   "metadata": {},
   "outputs": [],
   "source": [
    "# analytical tools\n",
    "import pandas as pd\n",
    "import seaborn as sns"
   ]
  },
  {
   "cell_type": "markdown",
   "id": "mineral-trial",
   "metadata": {},
   "source": [
    "## Get Iris data"
   ]
  },
  {
   "cell_type": "code",
   "execution_count": 2,
   "id": "concerned-worry",
   "metadata": {},
   "outputs": [
    {
     "data": {
      "text/plain": [
       "sklearn.utils.Bunch"
      ]
     },
     "execution_count": 2,
     "metadata": {},
     "output_type": "execute_result"
    }
   ],
   "source": [
    "from sklearn.datasets import load_iris \n",
    "bunch = load_iris()\n",
    "type(bunch)"
   ]
  },
  {
   "cell_type": "code",
   "execution_count": 3,
   "id": "medical-baseball",
   "metadata": {},
   "outputs": [
    {
     "data": {
      "text/plain": [
       "dict_keys(['data', 'target', 'frame', 'target_names', 'DESCR', 'feature_names', 'filename'])"
      ]
     },
     "execution_count": 3,
     "metadata": {},
     "output_type": "execute_result"
    }
   ],
   "source": [
    "bunch.keys()"
   ]
  },
  {
   "cell_type": "code",
   "execution_count": 4,
   "id": "aerial-mediterranean",
   "metadata": {},
   "outputs": [
    {
     "data": {
      "text/plain": [
       "array(['setosa', 'versicolor', 'virginica'], dtype='<U10')"
      ]
     },
     "execution_count": 4,
     "metadata": {},
     "output_type": "execute_result"
    }
   ],
   "source": [
    "bunch['target_names']"
   ]
  },
  {
   "cell_type": "code",
   "execution_count": 5,
   "id": "favorite-bottle",
   "metadata": {},
   "outputs": [
    {
     "data": {
      "text/html": [
       "<div>\n",
       "<style scoped>\n",
       "    .dataframe tbody tr th:only-of-type {\n",
       "        vertical-align: middle;\n",
       "    }\n",
       "\n",
       "    .dataframe tbody tr th {\n",
       "        vertical-align: top;\n",
       "    }\n",
       "\n",
       "    .dataframe thead th {\n",
       "        text-align: right;\n",
       "    }\n",
       "</style>\n",
       "<table border=\"1\" class=\"dataframe\">\n",
       "  <thead>\n",
       "    <tr style=\"text-align: right;\">\n",
       "      <th></th>\n",
       "      <th>sepal length (cm)</th>\n",
       "      <th>sepal width (cm)</th>\n",
       "      <th>petal length (cm)</th>\n",
       "      <th>petal width (cm)</th>\n",
       "      <th>variety</th>\n",
       "      <th>variety_name</th>\n",
       "    </tr>\n",
       "  </thead>\n",
       "  <tbody>\n",
       "    <tr>\n",
       "      <th>0</th>\n",
       "      <td>5.1</td>\n",
       "      <td>3.5</td>\n",
       "      <td>1.4</td>\n",
       "      <td>0.2</td>\n",
       "      <td>0</td>\n",
       "      <td>setosa</td>\n",
       "    </tr>\n",
       "    <tr>\n",
       "      <th>1</th>\n",
       "      <td>4.9</td>\n",
       "      <td>3.0</td>\n",
       "      <td>1.4</td>\n",
       "      <td>0.2</td>\n",
       "      <td>0</td>\n",
       "      <td>setosa</td>\n",
       "    </tr>\n",
       "    <tr>\n",
       "      <th>2</th>\n",
       "      <td>4.7</td>\n",
       "      <td>3.2</td>\n",
       "      <td>1.3</td>\n",
       "      <td>0.2</td>\n",
       "      <td>0</td>\n",
       "      <td>setosa</td>\n",
       "    </tr>\n",
       "  </tbody>\n",
       "</table>\n",
       "</div>"
      ],
      "text/plain": [
       "   sepal length (cm)  sepal width (cm)  petal length (cm)  petal width (cm)  \\\n",
       "0                5.1               3.5                1.4               0.2   \n",
       "1                4.9               3.0                1.4               0.2   \n",
       "2                4.7               3.2                1.3               0.2   \n",
       "\n",
       "   variety variety_name  \n",
       "0        0       setosa  \n",
       "1        0       setosa  \n",
       "2        0       setosa  "
      ]
     },
     "execution_count": 5,
     "metadata": {},
     "output_type": "execute_result"
    }
   ],
   "source": [
    "data = pd.DataFrame(bunch['data'])\n",
    "data.columns = bunch['feature_names']\n",
    "data['variety'] = bunch['target']\n",
    "data['variety_name'] = (\n",
    "    pd.Series(bunch['target'])\n",
    "    .map(lambda x: bunch['target_names'][x])\n",
    ")\n",
    "data.head(3)"
   ]
  },
  {
   "cell_type": "markdown",
   "id": "signal-rebecca",
   "metadata": {},
   "source": [
    "## Explore data"
   ]
  },
  {
   "cell_type": "code",
   "execution_count": 6,
   "id": "worst-pathology",
   "metadata": {},
   "outputs": [
    {
     "data": {
      "text/html": [
       "<div>\n",
       "<style scoped>\n",
       "    .dataframe tbody tr th:only-of-type {\n",
       "        vertical-align: middle;\n",
       "    }\n",
       "\n",
       "    .dataframe tbody tr th {\n",
       "        vertical-align: top;\n",
       "    }\n",
       "\n",
       "    .dataframe thead th {\n",
       "        text-align: right;\n",
       "    }\n",
       "</style>\n",
       "<table border=\"1\" class=\"dataframe\">\n",
       "  <thead>\n",
       "    <tr style=\"text-align: right;\">\n",
       "      <th></th>\n",
       "      <th>sepal length (cm)</th>\n",
       "      <th>sepal width (cm)</th>\n",
       "      <th>petal length (cm)</th>\n",
       "      <th>petal width (cm)</th>\n",
       "      <th>variety</th>\n",
       "    </tr>\n",
       "  </thead>\n",
       "  <tbody>\n",
       "    <tr>\n",
       "      <th>count</th>\n",
       "      <td>150.000000</td>\n",
       "      <td>150.000000</td>\n",
       "      <td>150.000000</td>\n",
       "      <td>150.000000</td>\n",
       "      <td>150.000000</td>\n",
       "    </tr>\n",
       "    <tr>\n",
       "      <th>mean</th>\n",
       "      <td>5.843333</td>\n",
       "      <td>3.057333</td>\n",
       "      <td>3.758000</td>\n",
       "      <td>1.199333</td>\n",
       "      <td>1.000000</td>\n",
       "    </tr>\n",
       "    <tr>\n",
       "      <th>std</th>\n",
       "      <td>0.828066</td>\n",
       "      <td>0.435866</td>\n",
       "      <td>1.765298</td>\n",
       "      <td>0.762238</td>\n",
       "      <td>0.819232</td>\n",
       "    </tr>\n",
       "    <tr>\n",
       "      <th>min</th>\n",
       "      <td>4.300000</td>\n",
       "      <td>2.000000</td>\n",
       "      <td>1.000000</td>\n",
       "      <td>0.100000</td>\n",
       "      <td>0.000000</td>\n",
       "    </tr>\n",
       "    <tr>\n",
       "      <th>25%</th>\n",
       "      <td>5.100000</td>\n",
       "      <td>2.800000</td>\n",
       "      <td>1.600000</td>\n",
       "      <td>0.300000</td>\n",
       "      <td>0.000000</td>\n",
       "    </tr>\n",
       "    <tr>\n",
       "      <th>50%</th>\n",
       "      <td>5.800000</td>\n",
       "      <td>3.000000</td>\n",
       "      <td>4.350000</td>\n",
       "      <td>1.300000</td>\n",
       "      <td>1.000000</td>\n",
       "    </tr>\n",
       "    <tr>\n",
       "      <th>75%</th>\n",
       "      <td>6.400000</td>\n",
       "      <td>3.300000</td>\n",
       "      <td>5.100000</td>\n",
       "      <td>1.800000</td>\n",
       "      <td>2.000000</td>\n",
       "    </tr>\n",
       "    <tr>\n",
       "      <th>max</th>\n",
       "      <td>7.900000</td>\n",
       "      <td>4.400000</td>\n",
       "      <td>6.900000</td>\n",
       "      <td>2.500000</td>\n",
       "      <td>2.000000</td>\n",
       "    </tr>\n",
       "  </tbody>\n",
       "</table>\n",
       "</div>"
      ],
      "text/plain": [
       "       sepal length (cm)  sepal width (cm)  petal length (cm)  \\\n",
       "count         150.000000        150.000000         150.000000   \n",
       "mean            5.843333          3.057333           3.758000   \n",
       "std             0.828066          0.435866           1.765298   \n",
       "min             4.300000          2.000000           1.000000   \n",
       "25%             5.100000          2.800000           1.600000   \n",
       "50%             5.800000          3.000000           4.350000   \n",
       "75%             6.400000          3.300000           5.100000   \n",
       "max             7.900000          4.400000           6.900000   \n",
       "\n",
       "       petal width (cm)     variety  \n",
       "count        150.000000  150.000000  \n",
       "mean           1.199333    1.000000  \n",
       "std            0.762238    0.819232  \n",
       "min            0.100000    0.000000  \n",
       "25%            0.300000    0.000000  \n",
       "50%            1.300000    1.000000  \n",
       "75%            1.800000    2.000000  \n",
       "max            2.500000    2.000000  "
      ]
     },
     "execution_count": 6,
     "metadata": {},
     "output_type": "execute_result"
    }
   ],
   "source": [
    "data.describe()"
   ]
  },
  {
   "cell_type": "code",
   "execution_count": 7,
   "id": "suited-balance",
   "metadata": {
    "scrolled": true
   },
   "outputs": [
    {
     "name": "stdout",
     "output_type": "stream",
     "text": [
      "<class 'pandas.core.frame.DataFrame'>\n",
      "RangeIndex: 150 entries, 0 to 149\n",
      "Data columns (total 6 columns):\n",
      " #   Column             Non-Null Count  Dtype  \n",
      "---  ------             --------------  -----  \n",
      " 0   sepal length (cm)  150 non-null    float64\n",
      " 1   sepal width (cm)   150 non-null    float64\n",
      " 2   petal length (cm)  150 non-null    float64\n",
      " 3   petal width (cm)   150 non-null    float64\n",
      " 4   variety            150 non-null    int64  \n",
      " 5   variety_name       150 non-null    object \n",
      "dtypes: float64(4), int64(1), object(1)\n",
      "memory usage: 7.2+ KB\n"
     ]
    }
   ],
   "source": [
    "# quick overview of data\n",
    "data.info()"
   ]
  },
  {
   "cell_type": "code",
   "execution_count": 8,
   "id": "linear-middle",
   "metadata": {},
   "outputs": [
    {
     "data": {
      "text/html": [
       "<div>\n",
       "<style scoped>\n",
       "    .dataframe tbody tr th:only-of-type {\n",
       "        vertical-align: middle;\n",
       "    }\n",
       "\n",
       "    .dataframe tbody tr th {\n",
       "        vertical-align: top;\n",
       "    }\n",
       "\n",
       "    .dataframe thead th {\n",
       "        text-align: right;\n",
       "    }\n",
       "</style>\n",
       "<table border=\"1\" class=\"dataframe\">\n",
       "  <thead>\n",
       "    <tr style=\"text-align: right;\">\n",
       "      <th></th>\n",
       "      <th>sepal length (cm)</th>\n",
       "      <th>sepal width (cm)</th>\n",
       "      <th>petal length (cm)</th>\n",
       "      <th>petal width (cm)</th>\n",
       "      <th>variety</th>\n",
       "    </tr>\n",
       "    <tr>\n",
       "      <th>variety_name</th>\n",
       "      <th></th>\n",
       "      <th></th>\n",
       "      <th></th>\n",
       "      <th></th>\n",
       "      <th></th>\n",
       "    </tr>\n",
       "  </thead>\n",
       "  <tbody>\n",
       "    <tr>\n",
       "      <th>setosa</th>\n",
       "      <td>5.006</td>\n",
       "      <td>3.428</td>\n",
       "      <td>1.462</td>\n",
       "      <td>0.246</td>\n",
       "      <td>0</td>\n",
       "    </tr>\n",
       "    <tr>\n",
       "      <th>versicolor</th>\n",
       "      <td>5.936</td>\n",
       "      <td>2.770</td>\n",
       "      <td>4.260</td>\n",
       "      <td>1.326</td>\n",
       "      <td>1</td>\n",
       "    </tr>\n",
       "    <tr>\n",
       "      <th>virginica</th>\n",
       "      <td>6.588</td>\n",
       "      <td>2.974</td>\n",
       "      <td>5.552</td>\n",
       "      <td>2.026</td>\n",
       "      <td>2</td>\n",
       "    </tr>\n",
       "  </tbody>\n",
       "</table>\n",
       "</div>"
      ],
      "text/plain": [
       "              sepal length (cm)  sepal width (cm)  petal length (cm)  \\\n",
       "variety_name                                                           \n",
       "setosa                    5.006             3.428              1.462   \n",
       "versicolor                5.936             2.770              4.260   \n",
       "virginica                 6.588             2.974              5.552   \n",
       "\n",
       "              petal width (cm)  variety  \n",
       "variety_name                             \n",
       "setosa                   0.246        0  \n",
       "versicolor               1.326        1  \n",
       "virginica                2.026        2  "
      ]
     },
     "execution_count": 8,
     "metadata": {},
     "output_type": "execute_result"
    }
   ],
   "source": [
    "data.groupby('variety_name').mean()"
   ]
  },
  {
   "cell_type": "code",
   "execution_count": 9,
   "id": "motivated-emperor",
   "metadata": {},
   "outputs": [
    {
     "data": {
      "image/png": "[encoded data removed]",
      "text/plain": [
       "<Figure size 576x576 with 16 Axes>"
      ]
     },
     "metadata": {
      "needs_background": "light"
     },
     "output_type": "display_data"
    }
   ],
   "source": [
    "# SPLOM plot\n",
    "_ = pd.plotting.scatter_matrix(data[data.columns[0:4]],\n",
    "    c=data['variety'],\n",
    "    hist_kwds = { 'bins' : 20 }, \n",
    "    figsize=(8,8),\n",
    ")"
   ]
  },
  {
   "cell_type": "markdown",
   "id": "rocky-destination",
   "metadata": {},
   "source": [
    "## Transform Iris"
   ]
  },
  {
   "cell_type": "code",
   "execution_count": 10,
   "id": "improving-plain",
   "metadata": {},
   "outputs": [],
   "source": [
    "# no transformation needed"
   ]
  },
  {
   "cell_type": "markdown",
   "id": "classified-playback",
   "metadata": {},
   "source": [
    "## Classification"
   ]
  },
  {
   "cell_type": "code",
   "execution_count": 27,
   "id": "independent-coordinator",
   "metadata": {},
   "outputs": [
    {
     "data": {
      "text/plain": [
       "0    50\n",
       "1    50\n",
       "2    50\n",
       "Name: variety, dtype: int64"
      ]
     },
     "execution_count": 27,
     "metadata": {},
     "output_type": "execute_result"
    }
   ],
   "source": [
    "x = data[data.columns[0:4]]\n",
    "y = data['variety']\n",
    "\n",
    "# how many targets?\n",
    "y.value_counts()"
   ]
  },
  {
   "cell_type": "code",
   "execution_count": 12,
   "id": "extra-equipment",
   "metadata": {},
   "outputs": [],
   "source": [
    "# split the data into 70% train and 30% test\n",
    "from sklearn.model_selection import train_test_split\n",
    "x_train, x_test, y_train, y_test = (\n",
    "    train_test_split(x, y, test_size=0.3, random_state=0)\n",
    ")"
   ]
  },
  {
   "cell_type": "code",
   "execution_count": 13,
   "id": "greenhouse-particle",
   "metadata": {},
   "outputs": [],
   "source": [
    "results = {}"
   ]
  },
  {
   "cell_type": "markdown",
   "id": "mineral-conference",
   "metadata": {},
   "source": [
    "### Decision tree classifier"
   ]
  },
  {
   "cell_type": "code",
   "execution_count": 14,
   "id": "smaller-prototype",
   "metadata": {},
   "outputs": [
    {
     "data": {
      "text/plain": [
       "0.9777777777777777"
      ]
     },
     "execution_count": 14,
     "metadata": {},
     "output_type": "execute_result"
    }
   ],
   "source": [
    "from sklearn.tree import DecisionTreeClassifier\n",
    "dtc = DecisionTreeClassifier(max_depth=5)            # build\n",
    "dtc.fit(x_train, y_train)                            # fit\n",
    "results['Decision Tree'] = dtc.score(x_test, y_test) # predict\n",
    "results['Decision Tree']"
   ]
  },
  {
   "cell_type": "markdown",
   "id": "dated-twins",
   "metadata": {},
   "source": [
    "### Random forest classifier"
   ]
  },
  {
   "cell_type": "code",
   "execution_count": 15,
   "id": "accredited-muslim",
   "metadata": {},
   "outputs": [
    {
     "data": {
      "text/plain": [
       "0.9777777777777777"
      ]
     },
     "execution_count": 15,
     "metadata": {},
     "output_type": "execute_result"
    }
   ],
   "source": [
    "from sklearn.ensemble import RandomForestClassifier\n",
    "rfc = RandomForestClassifier(n_estimators=100)        # build\n",
    "rfc.fit(x_train, y_train)                             # fit\n",
    "results['Random Forest'] = rfc.score(x_test, y_test)  # predict\n",
    "results['Random Forest']"
   ]
  },
  {
   "cell_type": "markdown",
   "id": "colored-litigation",
   "metadata": {},
   "source": [
    "### Multinomial logistic regression"
   ]
  },
  {
   "cell_type": "code",
   "execution_count": 29,
   "id": "fifty-jewel",
   "metadata": {},
   "outputs": [
    {
     "data": {
      "text/plain": [
       "0.9777777777777777"
      ]
     },
     "execution_count": 29,
     "metadata": {},
     "output_type": "execute_result"
    }
   ],
   "source": [
    "from sklearn.linear_model import LogisticRegression\n",
    "lrc = LogisticRegression(max_iter=1000,\n",
    "                         multi_class='multinomial',)\n",
    "lrc.fit(x_train, y_train) \n",
    "results['Multinomial logistic Regr'] = lrc.score(x_test, y_test)\n",
    "results['Multinomial logistic Regr'] "
   ]
  },
  {
   "cell_type": "markdown",
   "id": "applied-equity",
   "metadata": {},
   "source": [
    "### Gradient boosting classifier"
   ]
  },
  {
   "cell_type": "code",
   "execution_count": 17,
   "id": "enclosed-victorian",
   "metadata": {},
   "outputs": [
    {
     "data": {
      "text/plain": [
       "0.9777777777777777"
      ]
     },
     "execution_count": 17,
     "metadata": {},
     "output_type": "execute_result"
    }
   ],
   "source": [
    "from sklearn.ensemble import GradientBoostingClassifier\n",
    "gbc = GradientBoostingClassifier(n_estimators=50)       # build\n",
    "gbc.fit(x_train, y_train)                               # fit\n",
    "results['Gradient Boosting'] = gbc.score(x_test, y_test)# predict\n",
    "results['Gradient Boosting']"
   ]
  },
  {
   "cell_type": "markdown",
   "id": "moral-command",
   "metadata": {},
   "source": [
    "### Naive Bayes classifier"
   ]
  },
  {
   "cell_type": "code",
   "execution_count": 18,
   "id": "animal-trash",
   "metadata": {},
   "outputs": [
    {
     "data": {
      "text/plain": [
       "1.0"
      ]
     },
     "execution_count": 18,
     "metadata": {},
     "output_type": "execute_result"
    }
   ],
   "source": [
    "from sklearn.naive_bayes import GaussianNB\n",
    "nbc = GaussianNB()\n",
    "nbc.fit(x_train, y_train) \n",
    "results['Naive Bayes'] = nbc.score(x_test, y_test)  \n",
    "results['Naive Bayes']"
   ]
  },
  {
   "cell_type": "markdown",
   "id": "floating-american",
   "metadata": {},
   "source": [
    "### K-Nearest-Neighbor classifier"
   ]
  },
  {
   "cell_type": "code",
   "execution_count": 19,
   "id": "french-addiction",
   "metadata": {},
   "outputs": [
    {
     "data": {
      "text/plain": [
       "0.9777777777777777"
      ]
     },
     "execution_count": 19,
     "metadata": {},
     "output_type": "execute_result"
    }
   ],
   "source": [
    "from sklearn.neighbors import KNeighborsClassifier\n",
    "knn = KNeighborsClassifier(n_neighbors=2)\n",
    "knn.fit(x_train, y_train)                               # fit\n",
    "results['KNN'] = knn.score(x_test, y_test)  \n",
    "results['KNN']"
   ]
  },
  {
   "cell_type": "markdown",
   "id": "suspended-fifth",
   "metadata": {},
   "source": [
    "### SVM classifier"
   ]
  },
  {
   "cell_type": "code",
   "execution_count": 20,
   "id": "affected-belly",
   "metadata": {},
   "outputs": [
    {
     "data": {
      "text/plain": [
       "0.9777777777777777"
      ]
     },
     "execution_count": 20,
     "metadata": {},
     "output_type": "execute_result"
    }
   ],
   "source": [
    "from sklearn.svm import SVC\n",
    "#svc = SVC(probability=True, kernel='linear')\n",
    "#svc = SVC(probability=True, kernel='poly', degree=3)\n",
    "svc = SVC(probability=True, kernel='rbf')\n",
    "svc.fit(x_train, y_train)                               # fit\n",
    "results['SVM'] = svc.score(x_test, y_test) \n",
    "results['SVM']"
   ]
  },
  {
   "cell_type": "markdown",
   "id": "outdoor-tennis",
   "metadata": {},
   "source": [
    "## Results"
   ]
  },
  {
   "cell_type": "code",
   "execution_count": 21,
   "id": "cooked-comfort",
   "metadata": {},
   "outputs": [
    {
     "data": {
      "text/plain": [
       "Naive Bayes          1.000000\n",
       "Decision Tree        0.977778\n",
       "Random Forest        0.977778\n",
       "Logistic Regr        0.977778\n",
       "Gradient Boosting    0.977778\n",
       "KNN                  0.977778\n",
       "SVM                  0.977778\n",
       "dtype: float64"
      ]
     },
     "execution_count": 21,
     "metadata": {},
     "output_type": "execute_result"
    }
   ],
   "source": [
    "pd.Series(results).sort_values(ascending=False)"
   ]
  },
  {
   "cell_type": "markdown",
   "id": "lucky-virus",
   "metadata": {},
   "source": [
    "## Of interest"
   ]
  },
  {
   "cell_type": "markdown",
   "id": "tender-humanity",
   "metadata": {},
   "source": [
    "### T-Distributed Stochastic Neighboring Entities (t-SNE)\n",
    "This is a dimension reduction technique for data viz,\n",
    "but it is also good at grouping, and labeling against known targets. \n",
    "However, there is no 'fit' method for test data. "
   ]
  },
  {
   "cell_type": "code",
   "execution_count": 30,
   "id": "fixed-silence",
   "metadata": {},
   "outputs": [
    {
     "name": "stdout",
     "output_type": "stream",
     "text": [
      "[t-SNE] Computing 121 nearest neighbors...\n",
      "[t-SNE] Indexed 150 samples in 0.000s...\n",
      "[t-SNE] Computed neighbors for 150 samples in 0.003s...\n",
      "[t-SNE] Computed conditional probabilities for sample 150 / 150\n",
      "[t-SNE] Mean sigma: 0.667454\n",
      "[t-SNE] KL divergence after 250 iterations with early exaggeration: 52.146309\n",
      "[t-SNE] KL divergence after 1600 iterations: 0.084559\n"
     ]
    }
   ],
   "source": [
    "from sklearn.manifold import TSNE\n",
    "tsne = TSNE(n_components=2, verbose=1, perplexity=40, \n",
    "            n_iter=10000, random_state=43)\n",
    "tsne_results = tsne.fit_transform(x)"
   ]
  },
  {
   "cell_type": "code",
   "execution_count": 25,
   "id": "democratic-presentation",
   "metadata": {},
   "outputs": [
    {
     "data": {
      "text/plain": [
       "<AxesSubplot:>"
      ]
     },
     "execution_count": 25,
     "metadata": {},
     "output_type": "execute_result"
    },
    {
     "data": {
      "image/png": "[encoded data removed]",
      "text/plain": [
       "<Figure size 432x288 with 1 Axes>"
      ]
     },
     "metadata": {
      "needs_background": "light"
     },
     "output_type": "display_data"
    }
   ],
   "source": [
    "sns.scatterplot(x=tsne_results[:,0], y=tsne_results[:,1],\n",
    "                hue=y)"
   ]
  },
  {
   "cell_type": "markdown",
   "id": "single-level",
   "metadata": {},
   "source": [
    "## The End"
   ]
  }
 ],
 "metadata": {
  "kernelspec": {
   "display_name": "Python 3",
   "language": "python",
   "name": "python3"
  },
  "language_info": {
   "codemirror_mode": {
    "name": "ipython",
    "version": 3
   },
   "file_extension": ".py",
   "mimetype": "text/x-python",
   "name": "python",
   "nbconvert_exporter": "python",
   "pygments_lexer": "ipython3",
   "version": "3.8.6"
  },
  "toc": {
   "base_numbering": 1,
   "nav_menu": {},
   "number_sections": true,
   "sideBar": true,
   "skip_h1_title": true,
   "title_cell": "Table of Contents",
   "title_sidebar": "Contents",
   "toc_cell": true,
   "toc_position": {},
   "toc_section_display": true,
   "toc_window_display": true
  }
 },
 "nbformat": 4,
 "nbformat_minor": 5
}
