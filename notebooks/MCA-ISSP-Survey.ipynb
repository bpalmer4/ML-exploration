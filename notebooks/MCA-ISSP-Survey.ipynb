{
 "cells": [
  {
   "cell_type": "markdown",
   "id": "coated-being",
   "metadata": {},
   "source": [
    "# ISSP Survey - Multiple Correspondence Analysis (MCA)"
   ]
  },
  {
   "cell_type": "markdown",
   "id": "optional-moment",
   "metadata": {
    "toc": true
   },
   "source": [
    "<h1>Table of Contents<span class=\"tocSkip\"></span></h1>\n",
    "<div class=\"toc\"><ul class=\"toc-item\"><li><span><a href=\"#Imports\" data-toc-modified-id=\"Imports-1\"><span class=\"toc-item-num\">1&nbsp;&nbsp;</span>Imports</a></span></li><li><span><a href=\"#Extraction---Get-data\" data-toc-modified-id=\"Extraction---Get-data-2\"><span class=\"toc-item-num\">2&nbsp;&nbsp;</span>Extraction - Get data</a></span></li><li><span><a href=\"#Exploratory\" data-toc-modified-id=\"Exploratory-3\"><span class=\"toc-item-num\">3&nbsp;&nbsp;</span>Exploratory</a></span></li><li><span><a href=\"#Transformation\" data-toc-modified-id=\"Transformation-4\"><span class=\"toc-item-num\">4&nbsp;&nbsp;</span>Transformation</a></span></li><li><span><a href=\"#MCA---Survey-questions\" data-toc-modified-id=\"MCA---Survey-questions-5\"><span class=\"toc-item-num\">5&nbsp;&nbsp;</span>MCA - Survey questions</a></span></li><li><span><a href=\"#The-End\" data-toc-modified-id=\"The-End-6\"><span class=\"toc-item-num\">6&nbsp;&nbsp;</span>The End</a></span></li></ul></div>"
   ]
  },
  {
   "cell_type": "markdown",
   "id": "inappropriate-consortium",
   "metadata": {},
   "source": [
    "## Imports"
   ]
  },
  {
   "cell_type": "code",
   "execution_count": 1,
   "id": "smaller-acting",
   "metadata": {},
   "outputs": [],
   "source": [
    "# analytical tools\n",
    "import pandas as pd\n",
    "import seaborn as sns\n",
    "import prince"
   ]
  },
  {
   "cell_type": "markdown",
   "id": "mineral-trial",
   "metadata": {},
   "source": [
    "## Extraction - Get data"
   ]
  },
  {
   "cell_type": "code",
   "execution_count": 2,
   "id": "pressed-breathing",
   "metadata": {},
   "outputs": [
    {
     "data": {
      "text/html": [
       "<div>\n",
       "<style scoped>\n",
       "    .dataframe tbody tr th:only-of-type {\n",
       "        vertical-align: middle;\n",
       "    }\n",
       "\n",
       "    .dataframe tbody tr th {\n",
       "        vertical-align: top;\n",
       "    }\n",
       "\n",
       "    .dataframe thead th {\n",
       "        text-align: right;\n",
       "    }\n",
       "</style>\n",
       "<table border=\"1\" class=\"dataframe\">\n",
       "  <thead>\n",
       "    <tr style=\"text-align: right;\">\n",
       "      <th></th>\n",
       "      <th>A</th>\n",
       "      <th>B</th>\n",
       "      <th>C</th>\n",
       "      <th>D</th>\n",
       "      <th>sex</th>\n",
       "      <th>age</th>\n",
       "      <th>edu</th>\n",
       "    </tr>\n",
       "  </thead>\n",
       "  <tbody>\n",
       "    <tr>\n",
       "      <th>0</th>\n",
       "      <td>2</td>\n",
       "      <td>3</td>\n",
       "      <td>4</td>\n",
       "      <td>3</td>\n",
       "      <td>2</td>\n",
       "      <td>2</td>\n",
       "      <td>3</td>\n",
       "    </tr>\n",
       "    <tr>\n",
       "      <th>1</th>\n",
       "      <td>3</td>\n",
       "      <td>4</td>\n",
       "      <td>2</td>\n",
       "      <td>3</td>\n",
       "      <td>1</td>\n",
       "      <td>3</td>\n",
       "      <td>4</td>\n",
       "    </tr>\n",
       "    <tr>\n",
       "      <th>2</th>\n",
       "      <td>2</td>\n",
       "      <td>3</td>\n",
       "      <td>2</td>\n",
       "      <td>4</td>\n",
       "      <td>2</td>\n",
       "      <td>3</td>\n",
       "      <td>2</td>\n",
       "    </tr>\n",
       "    <tr>\n",
       "      <th>3</th>\n",
       "      <td>2</td>\n",
       "      <td>2</td>\n",
       "      <td>2</td>\n",
       "      <td>2</td>\n",
       "      <td>1</td>\n",
       "      <td>2</td>\n",
       "      <td>3</td>\n",
       "    </tr>\n",
       "    <tr>\n",
       "      <th>4</th>\n",
       "      <td>3</td>\n",
       "      <td>3</td>\n",
       "      <td>3</td>\n",
       "      <td>3</td>\n",
       "      <td>1</td>\n",
       "      <td>5</td>\n",
       "      <td>2</td>\n",
       "    </tr>\n",
       "  </tbody>\n",
       "</table>\n",
       "</div>"
      ],
      "text/plain": [
       "   A  B  C  D  sex  age  edu\n",
       "0  2  3  4  3    2    2    3\n",
       "1  3  4  2  3    1    3    4\n",
       "2  2  3  2  4    2    3    2\n",
       "3  2  2  2  2    1    2    3\n",
       "4  3  3  3  3    1    5    2"
      ]
     },
     "execution_count": 2,
     "metadata": {},
     "output_type": "execute_result"
    }
   ],
   "source": [
    "# Based on Oleg Nenadic and Michael Greenacre (2005), \n",
    "# \"Computation of Multiple Correspondence Analysis, with code in R\"\n",
    "\n",
    "# Data comprises survey responses to four questions on attitudes\n",
    "# to science. The questions are labeled A, B, C, D and answered\n",
    "# on a Likert scale, a 5-point scale (from 1=agree strongly to \n",
    "# 5=disagree strongly), and three demographic characteristics: \n",
    "# sex (2 categories), age (6 categories), and education (6 cats).\n",
    "# All of the variables are categorical.\n",
    "\n",
    "data = pd.read_csv(\"../data/wg93.zip\", sep=\"\\t\")\n",
    "data.head()"
   ]
  },
  {
   "cell_type": "markdown",
   "id": "sophisticated-windsor",
   "metadata": {},
   "source": [
    "## Exploratory"
   ]
  },
  {
   "cell_type": "code",
   "execution_count": 3,
   "id": "tamil-spencer",
   "metadata": {},
   "outputs": [
    {
     "name": "stdout",
     "output_type": "stream",
     "text": [
      "<class 'pandas.core.frame.DataFrame'>\n",
      "RangeIndex: 871 entries, 0 to 870\n",
      "Data columns (total 7 columns):\n",
      " #   Column  Non-Null Count  Dtype\n",
      "---  ------  --------------  -----\n",
      " 0   A       871 non-null    int64\n",
      " 1   B       871 non-null    int64\n",
      " 2   C       871 non-null    int64\n",
      " 3   D       871 non-null    int64\n",
      " 4   sex     871 non-null    int64\n",
      " 5   age     871 non-null    int64\n",
      " 6   edu     871 non-null    int64\n",
      "dtypes: int64(7)\n",
      "memory usage: 47.8 KB\n"
     ]
    }
   ],
   "source": [
    "# Overview - looks like no missing values\n",
    "data.info()"
   ]
  },
  {
   "cell_type": "code",
   "execution_count": 4,
   "id": "meaningful-webster",
   "metadata": {},
   "outputs": [
    {
     "data": {
      "text/plain": [
       "<AxesSubplot:>"
      ]
     },
     "execution_count": 4,
     "metadata": {},
     "output_type": "execute_result"
    },
    {
     "data": {
      "image/png": "[encoded data removed]",
      "text/plain": [
       "<Figure size 432x288 with 2 Axes>"
      ]
     },
     "metadata": {
      "needs_background": "light"
     },
     "output_type": "display_data"
    }
   ],
   "source": [
    "# Any missing values? NO!\n",
    "sns.heatmap(data.isna())"
   ]
  },
  {
   "cell_type": "code",
   "execution_count": 5,
   "id": "stable-suite",
   "metadata": {},
   "outputs": [
    {
     "name": "stdout",
     "output_type": "stream",
     "text": [
      "========\n",
      "A\n",
      "2    322\n",
      "3    204\n",
      "4    178\n",
      "1    119\n",
      "5     48\n",
      "Name: A, dtype: int64\n",
      "========\n",
      "B\n",
      "4    281\n",
      "3    205\n",
      "2    174\n",
      "5    140\n",
      "1     71\n",
      "Name: B, dtype: int64\n",
      "========\n",
      "C\n",
      "2    316\n",
      "3    197\n",
      "4    154\n",
      "1    152\n",
      "5     52\n",
      "Name: C, dtype: int64\n",
      "========\n",
      "D\n",
      "2    232\n",
      "4    226\n",
      "3    202\n",
      "5    151\n",
      "1     60\n",
      "Name: D, dtype: int64\n",
      "========\n",
      "sex\n",
      "2    444\n",
      "1    427\n",
      "Name: sex, dtype: int64\n",
      "========\n",
      "age\n",
      "2    210\n",
      "3    158\n",
      "4    146\n",
      "6    142\n",
      "5    124\n",
      "1     91\n",
      "Name: age, dtype: int64\n",
      "========\n",
      "edu\n",
      "2    378\n",
      "3    242\n",
      "4     94\n",
      "6     70\n",
      "5     49\n",
      "1     38\n",
      "Name: edu, dtype: int64\n",
      "========\n"
     ]
    }
   ],
   "source": [
    "# value counts\n",
    "print('========')\n",
    "for col in data.columns:\n",
    "    print(col)\n",
    "    print(data[col].value_counts())\n",
    "    print('========')"
   ]
  },
  {
   "cell_type": "code",
   "execution_count": 6,
   "id": "polyphonic-scene",
   "metadata": {},
   "outputs": [
    {
     "data": {
      "image/png": "[encoded data removed]",
      "text/plain": [
       "<Figure size 576x576 with 49 Axes>"
      ]
     },
     "metadata": {
      "needs_background": "light"
     },
     "output_type": "display_data"
    }
   ],
   "source": [
    "# SPLOM - not that useful with categorical data\n",
    "_ = pd.plotting.scatter_matrix(data,\n",
    "    figsize=(8,8), \n",
    ")"
   ]
  },
  {
   "cell_type": "code",
   "execution_count": 7,
   "id": "pediatric-abraham",
   "metadata": {},
   "outputs": [
    {
     "data": {
      "image/png": "[encoded data removed]",
      "text/plain": [
       "<Figure size 432x288 with 2 Axes>"
      ]
     },
     "metadata": {
      "needs_background": "light"
     },
     "output_type": "display_data"
    }
   ],
   "source": [
    "# Correlation matrix - may be misleading and/or \n",
    "# meaningless with categorical data\n",
    "_ = sns.heatmap(data.corr(), \n",
    "            cmap='coolwarm',\n",
    "            xticklabels=True, # want them all printed\n",
    "            yticklabels=True)"
   ]
  },
  {
   "cell_type": "markdown",
   "id": "referenced-basin",
   "metadata": {},
   "source": [
    "## Transformation"
   ]
  },
  {
   "cell_type": "code",
   "execution_count": 8,
   "id": "usual-grill",
   "metadata": {},
   "outputs": [],
   "source": [
    "# Trick here: the data values need to look categorical\n",
    "# for the MCA library to work (not sure why).\n",
    "# Currently our data values look numerical (being integers)\n",
    "X = data[data.columns[0:4]].astype(str)"
   ]
  },
  {
   "cell_type": "markdown",
   "id": "amended-revelation",
   "metadata": {},
   "source": [
    "## MCA - Survey questions"
   ]
  },
  {
   "cell_type": "code",
   "execution_count": 9,
   "id": "western-involvement",
   "metadata": {},
   "outputs": [],
   "source": [
    "mca = prince.MCA(\n",
    "    n_components=2,\n",
    "    n_iter=500,\n",
    "    copy=True,\n",
    "    check_input=True,\n",
    "    engine='auto',\n",
    "    random_state=1,\n",
    ")\n",
    "\n",
    "mca = mca.fit(X)"
   ]
  },
  {
   "cell_type": "code",
   "execution_count": 10,
   "id": "designed-franchise",
   "metadata": {},
   "outputs": [
    {
     "data": {
      "text/plain": [
       "[0.45737915399963835, 0.43096579260699946]"
      ]
     },
     "execution_count": 10,
     "metadata": {},
     "output_type": "execute_result"
    }
   ],
   "source": [
    "mca.eigenvalues_"
   ]
  },
  {
   "cell_type": "code",
   "execution_count": 11,
   "id": "technological-thesaurus",
   "metadata": {},
   "outputs": [
    {
     "data": {
      "text/html": [
       "<div>\n",
       "<style scoped>\n",
       "    .dataframe tbody tr th:only-of-type {\n",
       "        vertical-align: middle;\n",
       "    }\n",
       "\n",
       "    .dataframe tbody tr th {\n",
       "        vertical-align: top;\n",
       "    }\n",
       "\n",
       "    .dataframe thead th {\n",
       "        text-align: right;\n",
       "    }\n",
       "</style>\n",
       "<table border=\"1\" class=\"dataframe\">\n",
       "  <thead>\n",
       "    <tr style=\"text-align: right;\">\n",
       "      <th></th>\n",
       "      <th>0</th>\n",
       "      <th>1</th>\n",
       "    </tr>\n",
       "  </thead>\n",
       "  <tbody>\n",
       "    <tr>\n",
       "      <th>0</th>\n",
       "      <td>-0.210306</td>\n",
       "      <td>-0.443102</td>\n",
       "    </tr>\n",
       "    <tr>\n",
       "      <th>1</th>\n",
       "      <td>-0.324688</td>\n",
       "      <td>-0.807454</td>\n",
       "    </tr>\n",
       "    <tr>\n",
       "      <th>2</th>\n",
       "      <td>0.229371</td>\n",
       "      <td>-0.512621</td>\n",
       "    </tr>\n",
       "    <tr>\n",
       "      <th>3</th>\n",
       "      <td>0.303358</td>\n",
       "      <td>-0.387482</td>\n",
       "    </tr>\n",
       "    <tr>\n",
       "      <th>4</th>\n",
       "      <td>-0.276100</td>\n",
       "      <td>-1.091616</td>\n",
       "    </tr>\n",
       "  </tbody>\n",
       "</table>\n",
       "</div>"
      ],
      "text/plain": [
       "          0         1\n",
       "0 -0.210306 -0.443102\n",
       "1 -0.324688 -0.807454\n",
       "2  0.229371 -0.512621\n",
       "3  0.303358 -0.387482\n",
       "4 -0.276100 -1.091616"
      ]
     },
     "execution_count": 11,
     "metadata": {},
     "output_type": "execute_result"
    }
   ],
   "source": [
    "mca.row_coordinates(X).head()\n",
    "# same result as Nenadic and Greenacre - page 5"
   ]
  },
  {
   "cell_type": "code",
   "execution_count": 12,
   "id": "modern-secret",
   "metadata": {},
   "outputs": [
    {
     "data": {
      "text/html": [
       "<div>\n",
       "<style scoped>\n",
       "    .dataframe tbody tr th:only-of-type {\n",
       "        vertical-align: middle;\n",
       "    }\n",
       "\n",
       "    .dataframe tbody tr th {\n",
       "        vertical-align: top;\n",
       "    }\n",
       "\n",
       "    .dataframe thead th {\n",
       "        text-align: right;\n",
       "    }\n",
       "</style>\n",
       "<table border=\"1\" class=\"dataframe\">\n",
       "  <thead>\n",
       "    <tr style=\"text-align: right;\">\n",
       "      <th></th>\n",
       "      <th>0</th>\n",
       "      <th>1</th>\n",
       "    </tr>\n",
       "  </thead>\n",
       "  <tbody>\n",
       "    <tr>\n",
       "      <th>870</th>\n",
       "      <td>0.625955</td>\n",
       "      <td>-0.134506</td>\n",
       "    </tr>\n",
       "  </tbody>\n",
       "</table>\n",
       "</div>"
      ],
      "text/plain": [
       "            0         1\n",
       "870  0.625955 -0.134506"
      ]
     },
     "execution_count": 12,
     "metadata": {},
     "output_type": "execute_result"
    }
   ],
   "source": [
    "mca.row_coordinates(X).tail(1)\n",
    "# same result as Nenadic and Greenacre - page 5"
   ]
  },
  {
   "cell_type": "code",
   "execution_count": 13,
   "id": "coordinate-probe",
   "metadata": {},
   "outputs": [
    {
     "data": {
      "text/plain": [
       "[0.11434478849990959, 0.10774144815174987]"
      ]
     },
     "execution_count": 13,
     "metadata": {},
     "output_type": "execute_result"
    }
   ],
   "source": [
    "mca.explained_inertia_\n",
    "# same result as Nenadic and Greenacre"
   ]
  },
  {
   "cell_type": "code",
   "execution_count": 14,
   "id": "frequent-campaign",
   "metadata": {},
   "outputs": [
    {
     "data": {
      "text/plain": [
       "4.0"
      ]
     },
     "execution_count": 14,
     "metadata": {},
     "output_type": "execute_result"
    }
   ],
   "source": [
    "mca.total_inertia_"
   ]
  },
  {
   "cell_type": "code",
   "execution_count": 15,
   "id": "hybrid-convention",
   "metadata": {},
   "outputs": [
    {
     "data": {
      "image/png": "[encoded data removed]",
      "text/plain": [
       "<Figure size 576x576 with 1 Axes>"
      ]
     },
     "metadata": {
      "needs_background": "light"
     },
     "output_type": "display_data"
    }
   ],
   "source": [
    "ax = mca.plot_coordinates(\n",
    "    X=X,\n",
    "    figsize=(8, 8),\n",
    "    show_row_points=False,\n",
    "    #row_points_size=10,\n",
    "    show_row_labels=False,\n",
    "    show_column_points=True,\n",
    "    column_points_size=30,\n",
    "    show_column_labels=True,\n",
    "    legend_n_cols=1,\n",
    ")\n",
    "# same result as Nenadic and Greenacre"
   ]
  },
  {
   "cell_type": "code",
   "execution_count": 16,
   "id": "portable-stevens",
   "metadata": {},
   "outputs": [
    {
     "data": {
      "text/html": [
       "<div>\n",
       "<style scoped>\n",
       "    .dataframe tbody tr th:only-of-type {\n",
       "        vertical-align: middle;\n",
       "    }\n",
       "\n",
       "    .dataframe tbody tr th {\n",
       "        vertical-align: top;\n",
       "    }\n",
       "\n",
       "    .dataframe thead th {\n",
       "        text-align: right;\n",
       "    }\n",
       "</style>\n",
       "<table border=\"1\" class=\"dataframe\">\n",
       "  <thead>\n",
       "    <tr style=\"text-align: right;\">\n",
       "      <th></th>\n",
       "      <th>0</th>\n",
       "      <th>1</th>\n",
       "    </tr>\n",
       "  </thead>\n",
       "  <tbody>\n",
       "    <tr>\n",
       "      <th>A_1</th>\n",
       "      <td>1.242107</td>\n",
       "      <td>0.477562</td>\n",
       "    </tr>\n",
       "    <tr>\n",
       "      <th>A_2</th>\n",
       "      <td>0.369421</td>\n",
       "      <td>-0.186731</td>\n",
       "    </tr>\n",
       "    <tr>\n",
       "      <th>A_3</th>\n",
       "      <td>-0.302168</td>\n",
       "      <td>-0.787408</td>\n",
       "    </tr>\n",
       "    <tr>\n",
       "      <th>A_4</th>\n",
       "      <td>-0.788498</td>\n",
       "      <td>0.483683</td>\n",
       "    </tr>\n",
       "    <tr>\n",
       "      <th>A_5</th>\n",
       "      <td>-1.349361</td>\n",
       "      <td>1.621522</td>\n",
       "    </tr>\n",
       "    <tr>\n",
       "      <th>B_1</th>\n",
       "      <td>1.977713</td>\n",
       "      <td>0.899428</td>\n",
       "    </tr>\n",
       "    <tr>\n",
       "      <th>B_2</th>\n",
       "      <td>0.433856</td>\n",
       "      <td>-0.437831</td>\n",
       "    </tr>\n",
       "    <tr>\n",
       "      <th>B_3</th>\n",
       "      <td>0.234033</td>\n",
       "      <td>-0.632793</td>\n",
       "    </tr>\n",
       "    <tr>\n",
       "      <th>B_4</th>\n",
       "      <td>-0.482962</td>\n",
       "      <td>-0.183861</td>\n",
       "    </tr>\n",
       "    <tr>\n",
       "      <th>B_5</th>\n",
       "      <td>-0.915522</td>\n",
       "      <td>1.383648</td>\n",
       "    </tr>\n",
       "    <tr>\n",
       "      <th>C_1</th>\n",
       "      <td>1.459304</td>\n",
       "      <td>0.596447</td>\n",
       "    </tr>\n",
       "    <tr>\n",
       "      <th>C_2</th>\n",
       "      <td>0.166929</td>\n",
       "      <td>-0.388381</td>\n",
       "    </tr>\n",
       "    <tr>\n",
       "      <th>C_3</th>\n",
       "      <td>-0.418626</td>\n",
       "      <td>-0.685635</td>\n",
       "    </tr>\n",
       "    <tr>\n",
       "      <th>C_4</th>\n",
       "      <td>-0.912230</td>\n",
       "      <td>0.416633</td>\n",
       "    </tr>\n",
       "    <tr>\n",
       "      <th>C_5</th>\n",
       "      <td>-0.992523</td>\n",
       "      <td>1.980329</td>\n",
       "    </tr>\n",
       "    <tr>\n",
       "      <th>D_1</th>\n",
       "      <td>0.814116</td>\n",
       "      <td>1.196090</td>\n",
       "    </tr>\n",
       "    <tr>\n",
       "      <th>D_2</th>\n",
       "      <td>-0.149564</td>\n",
       "      <td>-0.004553</td>\n",
       "    </tr>\n",
       "    <tr>\n",
       "      <th>D_3</th>\n",
       "      <td>-0.260142</td>\n",
       "      <td>-0.760659</td>\n",
       "    </tr>\n",
       "    <tr>\n",
       "      <th>D_4</th>\n",
       "      <td>-0.149892</td>\n",
       "      <td>-0.138197</td>\n",
       "    </tr>\n",
       "    <tr>\n",
       "      <th>D_5</th>\n",
       "      <td>0.478650</td>\n",
       "      <td>0.756136</td>\n",
       "    </tr>\n",
       "  </tbody>\n",
       "</table>\n",
       "</div>"
      ],
      "text/plain": [
       "            0         1\n",
       "A_1  1.242107  0.477562\n",
       "A_2  0.369421 -0.186731\n",
       "A_3 -0.302168 -0.787408\n",
       "A_4 -0.788498  0.483683\n",
       "A_5 -1.349361  1.621522\n",
       "B_1  1.977713  0.899428\n",
       "B_2  0.433856 -0.437831\n",
       "B_3  0.234033 -0.632793\n",
       "B_4 -0.482962 -0.183861\n",
       "B_5 -0.915522  1.383648\n",
       "C_1  1.459304  0.596447\n",
       "C_2  0.166929 -0.388381\n",
       "C_3 -0.418626 -0.685635\n",
       "C_4 -0.912230  0.416633\n",
       "C_5 -0.992523  1.980329\n",
       "D_1  0.814116  1.196090\n",
       "D_2 -0.149564 -0.004553\n",
       "D_3 -0.260142 -0.760659\n",
       "D_4 -0.149892 -0.138197\n",
       "D_5  0.478650  0.756136"
      ]
     },
     "execution_count": 16,
     "metadata": {},
     "output_type": "execute_result"
    }
   ],
   "source": [
    "# coordinates for the above plot\n",
    "mca.column_coordinates(X)"
   ]
  },
  {
   "cell_type": "markdown",
   "id": "martial-growth",
   "metadata": {},
   "source": [
    "## The End"
   ]
  },
  {
   "cell_type": "code",
   "execution_count": 17,
   "id": "african-government",
   "metadata": {},
   "outputs": [
    {
     "name": "stdout",
     "output_type": "stream",
     "text": [
      "Finished\n"
     ]
    }
   ],
   "source": [
    "print('Finished')"
   ]
  },
  {
   "cell_type": "code",
   "execution_count": null,
   "id": "vital-world",
   "metadata": {},
   "outputs": [],
   "source": []
  }
 ],
 "metadata": {
  "kernelspec": {
   "display_name": "Python 3",
   "language": "python",
   "name": "python3"
  },
  "language_info": {
   "codemirror_mode": {
    "name": "ipython",
    "version": 3
   },
   "file_extension": ".py",
   "mimetype": "text/x-python",
   "name": "python",
   "nbconvert_exporter": "python",
   "pygments_lexer": "ipython3",
   "version": "3.8.6"
  },
  "toc": {
   "base_numbering": 1,
   "nav_menu": {},
   "number_sections": true,
   "sideBar": true,
   "skip_h1_title": true,
   "title_cell": "Table of Contents",
   "title_sidebar": "Contents",
   "toc_cell": true,
   "toc_position": {
    "height": "calc(100% - 180px)",
    "left": "10px",
    "top": "150px",
    "width": "198.094px"
   },
   "toc_section_display": true,
   "toc_window_display": true
  }
 },
 "nbformat": 4,
 "nbformat_minor": 5
}
