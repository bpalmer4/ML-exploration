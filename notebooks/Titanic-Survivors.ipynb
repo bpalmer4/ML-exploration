{
 "cells": [
  {
   "cell_type": "markdown",
   "id": "coated-being",
   "metadata": {},
   "source": [
    "# Supervised Classification of Titanic Survivors"
   ]
  },
  {
   "cell_type": "markdown",
   "id": "optional-moment",
   "metadata": {
    "toc": true
   },
   "source": [
    "<h1>Table of Contents<span class=\"tocSkip\"></span></h1>\n",
    "<div class=\"toc\"><ul class=\"toc-item\"><li><span><a href=\"#imports\" data-toc-modified-id=\"imports-1\"><span class=\"toc-item-num\">1&nbsp;&nbsp;</span>imports</a></span></li><li><span><a href=\"#Extraction---Get-Titanic-data\" data-toc-modified-id=\"Extraction---Get-Titanic-data-2\"><span class=\"toc-item-num\">2&nbsp;&nbsp;</span>Extraction - Get Titanic data</a></span></li><li><span><a href=\"#Explore/Transform-Titanic-data\" data-toc-modified-id=\"Explore/Transform-Titanic-data-3\"><span class=\"toc-item-num\">3&nbsp;&nbsp;</span>Explore/Transform Titanic data</a></span><ul class=\"toc-item\"><li><span><a href=\"#initial-exploration\" data-toc-modified-id=\"initial-exploration-3.1\"><span class=\"toc-item-num\">3.1&nbsp;&nbsp;</span>initial exploration</a></span></li><li><span><a href=\"#identify-missing-data\" data-toc-modified-id=\"identify-missing-data-3.2\"><span class=\"toc-item-num\">3.2&nbsp;&nbsp;</span>identify missing data</a></span></li><li><span><a href=\"#age\" data-toc-modified-id=\"age-3.3\"><span class=\"toc-item-num\">3.3&nbsp;&nbsp;</span>age</a></span></li><li><span><a href=\"#deck\" data-toc-modified-id=\"deck-3.4\"><span class=\"toc-item-num\">3.4&nbsp;&nbsp;</span>deck</a></span></li><li><span><a href=\"#fares\" data-toc-modified-id=\"fares-3.5\"><span class=\"toc-item-num\">3.5&nbsp;&nbsp;</span>fares</a></span></li><li><span><a href=\"#duplicate-columns\" data-toc-modified-id=\"duplicate-columns-3.6\"><span class=\"toc-item-num\">3.6&nbsp;&nbsp;</span>duplicate columns</a></span></li><li><span><a href=\"#remaining-missing-data-treatment\" data-toc-modified-id=\"remaining-missing-data-treatment-3.7\"><span class=\"toc-item-num\">3.7&nbsp;&nbsp;</span>remaining missing data treatment</a></span></li><li><span><a href=\"#convert-categorical-data-to-dummy-variables\" data-toc-modified-id=\"convert-categorical-data-to-dummy-variables-3.8\"><span class=\"toc-item-num\">3.8&nbsp;&nbsp;</span>convert categorical data to dummy variables</a></span></li><li><span><a href=\"#Correlation-matrix-heatmap\" data-toc-modified-id=\"Correlation-matrix-heatmap-3.9\"><span class=\"toc-item-num\">3.9&nbsp;&nbsp;</span>Correlation matrix heatmap</a></span></li></ul></li><li><span><a href=\"#Classification\" data-toc-modified-id=\"Classification-4\"><span class=\"toc-item-num\">4&nbsp;&nbsp;</span>Classification</a></span><ul class=\"toc-item\"><li><span><a href=\"#Decision-tree-classifier\" data-toc-modified-id=\"Decision-tree-classifier-4.1\"><span class=\"toc-item-num\">4.1&nbsp;&nbsp;</span>Decision tree classifier</a></span></li><li><span><a href=\"#Random-forest-classifier\" data-toc-modified-id=\"Random-forest-classifier-4.2\"><span class=\"toc-item-num\">4.2&nbsp;&nbsp;</span>Random forest classifier</a></span></li><li><span><a href=\"#Logistic-regression\" data-toc-modified-id=\"Logistic-regression-4.3\"><span class=\"toc-item-num\">4.3&nbsp;&nbsp;</span>Logistic regression</a></span></li><li><span><a href=\"#Gradient-boosting-classifier\" data-toc-modified-id=\"Gradient-boosting-classifier-4.4\"><span class=\"toc-item-num\">4.4&nbsp;&nbsp;</span>Gradient boosting classifier</a></span></li><li><span><a href=\"#Naive-Bayes-classifier\" data-toc-modified-id=\"Naive-Bayes-classifier-4.5\"><span class=\"toc-item-num\">4.5&nbsp;&nbsp;</span>Naive Bayes classifier</a></span></li><li><span><a href=\"#K-Nearest-Neighbor-classifier\" data-toc-modified-id=\"K-Nearest-Neighbor-classifier-4.6\"><span class=\"toc-item-num\">4.6&nbsp;&nbsp;</span>K-Nearest-Neighbor classifier</a></span></li><li><span><a href=\"#SVM-classifier\" data-toc-modified-id=\"SVM-classifier-4.7\"><span class=\"toc-item-num\">4.7&nbsp;&nbsp;</span>SVM classifier</a></span></li></ul></li><li><span><a href=\"#Conclusion\" data-toc-modified-id=\"Conclusion-5\"><span class=\"toc-item-num\">5&nbsp;&nbsp;</span>Conclusion</a></span></li></ul></div>"
   ]
  },
  {
   "cell_type": "markdown",
   "id": "inappropriate-consortium",
   "metadata": {},
   "source": [
    "## imports"
   ]
  },
  {
   "cell_type": "code",
   "execution_count": 1,
   "id": "smaller-acting",
   "metadata": {},
   "outputs": [],
   "source": [
    "# analytical tools\n",
    "import pandas as pd\n",
    "import seaborn as sns"
   ]
  },
  {
   "cell_type": "markdown",
   "id": "mineral-trial",
   "metadata": {},
   "source": [
    "## Extraction - Get Titanic data"
   ]
  },
  {
   "cell_type": "code",
   "execution_count": 2,
   "id": "favorite-bottle",
   "metadata": {},
   "outputs": [
    {
     "data": {
      "text/html": [
       "<div>\n",
       "<style scoped>\n",
       "    .dataframe tbody tr th:only-of-type {\n",
       "        vertical-align: middle;\n",
       "    }\n",
       "\n",
       "    .dataframe tbody tr th {\n",
       "        vertical-align: top;\n",
       "    }\n",
       "\n",
       "    .dataframe thead th {\n",
       "        text-align: right;\n",
       "    }\n",
       "</style>\n",
       "<table border=\"1\" class=\"dataframe\">\n",
       "  <thead>\n",
       "    <tr style=\"text-align: right;\">\n",
       "      <th></th>\n",
       "      <th>survived</th>\n",
       "      <th>pclass</th>\n",
       "      <th>sex</th>\n",
       "      <th>age</th>\n",
       "      <th>sibsp</th>\n",
       "      <th>parch</th>\n",
       "      <th>fare</th>\n",
       "      <th>embarked</th>\n",
       "      <th>class</th>\n",
       "      <th>who</th>\n",
       "      <th>adult_male</th>\n",
       "      <th>deck</th>\n",
       "      <th>embark_town</th>\n",
       "      <th>alive</th>\n",
       "      <th>alone</th>\n",
       "    </tr>\n",
       "  </thead>\n",
       "  <tbody>\n",
       "    <tr>\n",
       "      <th>0</th>\n",
       "      <td>0</td>\n",
       "      <td>3</td>\n",
       "      <td>male</td>\n",
       "      <td>22.0</td>\n",
       "      <td>1</td>\n",
       "      <td>0</td>\n",
       "      <td>7.2500</td>\n",
       "      <td>S</td>\n",
       "      <td>Third</td>\n",
       "      <td>man</td>\n",
       "      <td>True</td>\n",
       "      <td>NaN</td>\n",
       "      <td>Southampton</td>\n",
       "      <td>no</td>\n",
       "      <td>False</td>\n",
       "    </tr>\n",
       "    <tr>\n",
       "      <th>1</th>\n",
       "      <td>1</td>\n",
       "      <td>1</td>\n",
       "      <td>female</td>\n",
       "      <td>38.0</td>\n",
       "      <td>1</td>\n",
       "      <td>0</td>\n",
       "      <td>71.2833</td>\n",
       "      <td>C</td>\n",
       "      <td>First</td>\n",
       "      <td>woman</td>\n",
       "      <td>False</td>\n",
       "      <td>C</td>\n",
       "      <td>Cherbourg</td>\n",
       "      <td>yes</td>\n",
       "      <td>False</td>\n",
       "    </tr>\n",
       "    <tr>\n",
       "      <th>2</th>\n",
       "      <td>1</td>\n",
       "      <td>3</td>\n",
       "      <td>female</td>\n",
       "      <td>26.0</td>\n",
       "      <td>0</td>\n",
       "      <td>0</td>\n",
       "      <td>7.9250</td>\n",
       "      <td>S</td>\n",
       "      <td>Third</td>\n",
       "      <td>woman</td>\n",
       "      <td>False</td>\n",
       "      <td>NaN</td>\n",
       "      <td>Southampton</td>\n",
       "      <td>yes</td>\n",
       "      <td>True</td>\n",
       "    </tr>\n",
       "    <tr>\n",
       "      <th>3</th>\n",
       "      <td>1</td>\n",
       "      <td>1</td>\n",
       "      <td>female</td>\n",
       "      <td>35.0</td>\n",
       "      <td>1</td>\n",
       "      <td>0</td>\n",
       "      <td>53.1000</td>\n",
       "      <td>S</td>\n",
       "      <td>First</td>\n",
       "      <td>woman</td>\n",
       "      <td>False</td>\n",
       "      <td>C</td>\n",
       "      <td>Southampton</td>\n",
       "      <td>yes</td>\n",
       "      <td>False</td>\n",
       "    </tr>\n",
       "    <tr>\n",
       "      <th>4</th>\n",
       "      <td>0</td>\n",
       "      <td>3</td>\n",
       "      <td>male</td>\n",
       "      <td>35.0</td>\n",
       "      <td>0</td>\n",
       "      <td>0</td>\n",
       "      <td>8.0500</td>\n",
       "      <td>S</td>\n",
       "      <td>Third</td>\n",
       "      <td>man</td>\n",
       "      <td>True</td>\n",
       "      <td>NaN</td>\n",
       "      <td>Southampton</td>\n",
       "      <td>no</td>\n",
       "      <td>True</td>\n",
       "    </tr>\n",
       "  </tbody>\n",
       "</table>\n",
       "</div>"
      ],
      "text/plain": [
       "   survived  pclass     sex   age  sibsp  parch     fare embarked  class  \\\n",
       "0         0       3    male  22.0      1      0   7.2500        S  Third   \n",
       "1         1       1  female  38.0      1      0  71.2833        C  First   \n",
       "2         1       3  female  26.0      0      0   7.9250        S  Third   \n",
       "3         1       1  female  35.0      1      0  53.1000        S  First   \n",
       "4         0       3    male  35.0      0      0   8.0500        S  Third   \n",
       "\n",
       "     who  adult_male deck  embark_town alive  alone  \n",
       "0    man        True  NaN  Southampton    no  False  \n",
       "1  woman       False    C    Cherbourg   yes  False  \n",
       "2  woman       False  NaN  Southampton   yes   True  \n",
       "3  woman       False    C  Southampton   yes  False  \n",
       "4    man        True  NaN  Southampton    no   True  "
      ]
     },
     "execution_count": 2,
     "metadata": {},
     "output_type": "execute_result"
    }
   ],
   "source": [
    "data = sns.load_dataset('titanic')\n",
    "data.head(5)\n",
    "# Note:\n",
    "#    pclass - Passenger Class (1 = 1st; 2 = 2nd; 3 = 3rd)\n",
    "#    sibsp - Number of Siblings/Spouses Aboard\n",
    "#    parch - Number of Parents/Children Aboard"
   ]
  },
  {
   "cell_type": "markdown",
   "id": "rocky-destination",
   "metadata": {},
   "source": [
    "## Explore/Transform Titanic data"
   ]
  },
  {
   "cell_type": "markdown",
   "id": "extensive-gazette",
   "metadata": {},
   "source": [
    "### initial exploration"
   ]
  },
  {
   "cell_type": "code",
   "execution_count": 3,
   "id": "suited-balance",
   "metadata": {},
   "outputs": [
    {
     "name": "stdout",
     "output_type": "stream",
     "text": [
      "<class 'pandas.core.frame.DataFrame'>\n",
      "RangeIndex: 891 entries, 0 to 890\n",
      "Data columns (total 15 columns):\n",
      " #   Column       Non-Null Count  Dtype   \n",
      "---  ------       --------------  -----   \n",
      " 0   survived     891 non-null    int64   \n",
      " 1   pclass       891 non-null    int64   \n",
      " 2   sex          891 non-null    object  \n",
      " 3   age          714 non-null    float64 \n",
      " 4   sibsp        891 non-null    int64   \n",
      " 5   parch        891 non-null    int64   \n",
      " 6   fare         891 non-null    float64 \n",
      " 7   embarked     889 non-null    object  \n",
      " 8   class        891 non-null    category\n",
      " 9   who          891 non-null    object  \n",
      " 10  adult_male   891 non-null    bool    \n",
      " 11  deck         203 non-null    category\n",
      " 12  embark_town  889 non-null    object  \n",
      " 13  alive        891 non-null    object  \n",
      " 14  alone        891 non-null    bool    \n",
      "dtypes: bool(2), category(2), float64(2), int64(4), object(5)\n",
      "memory usage: 80.7+ KB\n"
     ]
    }
   ],
   "source": [
    "# quick overview of data\n",
    "data.info()"
   ]
  },
  {
   "cell_type": "code",
   "execution_count": 4,
   "id": "optimum-treatment",
   "metadata": {
    "scrolled": true
   },
   "outputs": [
    {
     "data": {
      "text/html": [
       "<div>\n",
       "<style scoped>\n",
       "    .dataframe tbody tr th:only-of-type {\n",
       "        vertical-align: middle;\n",
       "    }\n",
       "\n",
       "    .dataframe tbody tr th {\n",
       "        vertical-align: top;\n",
       "    }\n",
       "\n",
       "    .dataframe thead th {\n",
       "        text-align: right;\n",
       "    }\n",
       "</style>\n",
       "<table border=\"1\" class=\"dataframe\">\n",
       "  <thead>\n",
       "    <tr style=\"text-align: right;\">\n",
       "      <th></th>\n",
       "      <th>survived</th>\n",
       "      <th>pclass</th>\n",
       "      <th>age</th>\n",
       "      <th>sibsp</th>\n",
       "      <th>parch</th>\n",
       "      <th>fare</th>\n",
       "    </tr>\n",
       "  </thead>\n",
       "  <tbody>\n",
       "    <tr>\n",
       "      <th>count</th>\n",
       "      <td>891.000000</td>\n",
       "      <td>891.000000</td>\n",
       "      <td>714.000000</td>\n",
       "      <td>891.000000</td>\n",
       "      <td>891.000000</td>\n",
       "      <td>891.000000</td>\n",
       "    </tr>\n",
       "    <tr>\n",
       "      <th>mean</th>\n",
       "      <td>0.383838</td>\n",
       "      <td>2.308642</td>\n",
       "      <td>29.699118</td>\n",
       "      <td>0.523008</td>\n",
       "      <td>0.381594</td>\n",
       "      <td>32.204208</td>\n",
       "    </tr>\n",
       "    <tr>\n",
       "      <th>std</th>\n",
       "      <td>0.486592</td>\n",
       "      <td>0.836071</td>\n",
       "      <td>14.526497</td>\n",
       "      <td>1.102743</td>\n",
       "      <td>0.806057</td>\n",
       "      <td>49.693429</td>\n",
       "    </tr>\n",
       "    <tr>\n",
       "      <th>min</th>\n",
       "      <td>0.000000</td>\n",
       "      <td>1.000000</td>\n",
       "      <td>0.420000</td>\n",
       "      <td>0.000000</td>\n",
       "      <td>0.000000</td>\n",
       "      <td>0.000000</td>\n",
       "    </tr>\n",
       "    <tr>\n",
       "      <th>25%</th>\n",
       "      <td>0.000000</td>\n",
       "      <td>2.000000</td>\n",
       "      <td>20.125000</td>\n",
       "      <td>0.000000</td>\n",
       "      <td>0.000000</td>\n",
       "      <td>7.910400</td>\n",
       "    </tr>\n",
       "    <tr>\n",
       "      <th>50%</th>\n",
       "      <td>0.000000</td>\n",
       "      <td>3.000000</td>\n",
       "      <td>28.000000</td>\n",
       "      <td>0.000000</td>\n",
       "      <td>0.000000</td>\n",
       "      <td>14.454200</td>\n",
       "    </tr>\n",
       "    <tr>\n",
       "      <th>75%</th>\n",
       "      <td>1.000000</td>\n",
       "      <td>3.000000</td>\n",
       "      <td>38.000000</td>\n",
       "      <td>1.000000</td>\n",
       "      <td>0.000000</td>\n",
       "      <td>31.000000</td>\n",
       "    </tr>\n",
       "    <tr>\n",
       "      <th>max</th>\n",
       "      <td>1.000000</td>\n",
       "      <td>3.000000</td>\n",
       "      <td>80.000000</td>\n",
       "      <td>8.000000</td>\n",
       "      <td>6.000000</td>\n",
       "      <td>512.329200</td>\n",
       "    </tr>\n",
       "  </tbody>\n",
       "</table>\n",
       "</div>"
      ],
      "text/plain": [
       "         survived      pclass         age       sibsp       parch        fare\n",
       "count  891.000000  891.000000  714.000000  891.000000  891.000000  891.000000\n",
       "mean     0.383838    2.308642   29.699118    0.523008    0.381594   32.204208\n",
       "std      0.486592    0.836071   14.526497    1.102743    0.806057   49.693429\n",
       "min      0.000000    1.000000    0.420000    0.000000    0.000000    0.000000\n",
       "25%      0.000000    2.000000   20.125000    0.000000    0.000000    7.910400\n",
       "50%      0.000000    3.000000   28.000000    0.000000    0.000000   14.454200\n",
       "75%      1.000000    3.000000   38.000000    1.000000    0.000000   31.000000\n",
       "max      1.000000    3.000000   80.000000    8.000000    6.000000  512.329200"
      ]
     },
     "execution_count": 4,
     "metadata": {},
     "output_type": "execute_result"
    }
   ],
   "source": [
    "# quick overview of data\n",
    "data.describe()"
   ]
  },
  {
   "cell_type": "markdown",
   "id": "disturbed-fabric",
   "metadata": {},
   "source": [
    "### identify missing data"
   ]
  },
  {
   "cell_type": "code",
   "execution_count": 5,
   "id": "identical-short",
   "metadata": {},
   "outputs": [
    {
     "data": {
      "text/plain": [
       "<AxesSubplot:>"
      ]
     },
     "execution_count": 5,
     "metadata": {},
     "output_type": "execute_result"
    },
    {
     "data": {
      "image/png": "[encoded data removed]",
      "text/plain": [
       "<Figure size 432x288 with 2 Axes>"
      ]
     },
     "metadata": {
      "needs_background": "light"
     },
     "output_type": "display_data"
    }
   ],
   "source": [
    "# heat map of missing data\n",
    "sns.heatmap(data.isna())"
   ]
  },
  {
   "cell_type": "markdown",
   "id": "dangerous-glucose",
   "metadata": {},
   "source": [
    "### age"
   ]
  },
  {
   "cell_type": "code",
   "execution_count": 6,
   "id": "noble-seventh",
   "metadata": {},
   "outputs": [
    {
     "data": {
      "text/plain": [
       "<AxesSubplot:xlabel='age', ylabel='Count'>"
      ]
     },
     "execution_count": 6,
     "metadata": {},
     "output_type": "execute_result"
    },
    {
     "data": {
      "image/png": "[encoded data removed]",
      "text/plain": [
       "<Figure size 432x288 with 1 Axes>"
      ]
     },
     "metadata": {
      "needs_background": "light"
     },
     "output_type": "display_data"
    }
   ],
   "source": [
    "# There are some missing ages, First a quick\n",
    "# look at the data, to see whether we can\n",
    "# 1 - impute missing ages (eg. by regression)\n",
    "# 2 - remove missing ages\n",
    "# 3 - categorise missing ages as missing\n",
    "sns.histplot(data['age'], binwidth=2)"
   ]
  },
  {
   "cell_type": "code",
   "execution_count": 7,
   "id": "fitted-prairie",
   "metadata": {},
   "outputs": [
    {
     "data": {
      "text/plain": [
       "working    563\n",
       "missing    177\n",
       "child       77\n",
       "older       74\n",
       "Name: age_cat, dtype: int64"
      ]
     },
     "execution_count": 7,
     "metadata": {},
     "output_type": "execute_result"
    }
   ],
   "source": [
    "# Let's add a missing category, \n",
    "# and treat the rest as follows:\n",
    "# - children 0-14 years\n",
    "# - working age 15-49 years\n",
    "# - older age 50+ years (think life expectency in 1912)\n",
    "data['age_cat'] = pd.Series('missing', index=data.index).where(\n",
    "    data['age'].isna(), \n",
    "    other=pd.cut(data['age'].dropna(), \n",
    "                 bins=[0,14,49,1000], \n",
    "                 labels=['child', 'working', 'older'])\n",
    ")\n",
    "# and show results\n",
    "data['age_cat'].value_counts()"
   ]
  },
  {
   "cell_type": "markdown",
   "id": "possible-pension",
   "metadata": {},
   "source": [
    "### deck"
   ]
  },
  {
   "cell_type": "code",
   "execution_count": 8,
   "id": "equal-address",
   "metadata": {},
   "outputs": [
    {
     "data": {
      "text/plain": [
       "C    59\n",
       "B    47\n",
       "D    33\n",
       "E    32\n",
       "A    15\n",
       "F    13\n",
       "G     4\n",
       "Name: deck, dtype: int64"
      ]
     },
     "execution_count": 8,
     "metadata": {},
     "output_type": "execute_result"
    }
   ],
   "source": [
    "# let's look at deck, noting it has many missing values (above)\n",
    "data['deck'].value_counts()"
   ]
  },
  {
   "cell_type": "code",
   "execution_count": 9,
   "id": "innovative-delay",
   "metadata": {},
   "outputs": [
    {
     "data": {
      "text/html": [
       "<div>\n",
       "<style scoped>\n",
       "    .dataframe tbody tr th:only-of-type {\n",
       "        vertical-align: middle;\n",
       "    }\n",
       "\n",
       "    .dataframe tbody tr th {\n",
       "        vertical-align: top;\n",
       "    }\n",
       "\n",
       "    .dataframe thead th {\n",
       "        text-align: right;\n",
       "    }\n",
       "</style>\n",
       "<table border=\"1\" class=\"dataframe\">\n",
       "  <thead>\n",
       "    <tr style=\"text-align: right;\">\n",
       "      <th></th>\n",
       "      <th>min</th>\n",
       "      <th>mean</th>\n",
       "      <th>median</th>\n",
       "      <th>max</th>\n",
       "      <th>count</th>\n",
       "    </tr>\n",
       "    <tr>\n",
       "      <th>deck</th>\n",
       "      <th></th>\n",
       "      <th></th>\n",
       "      <th></th>\n",
       "      <th></th>\n",
       "      <th></th>\n",
       "    </tr>\n",
       "  </thead>\n",
       "  <tbody>\n",
       "    <tr>\n",
       "      <th>A</th>\n",
       "      <td>0.0000</td>\n",
       "      <td>39.623887</td>\n",
       "      <td>35.50000</td>\n",
       "      <td>81.8583</td>\n",
       "      <td>15</td>\n",
       "    </tr>\n",
       "    <tr>\n",
       "      <th>B</th>\n",
       "      <td>0.0000</td>\n",
       "      <td>113.505764</td>\n",
       "      <td>80.00000</td>\n",
       "      <td>512.3292</td>\n",
       "      <td>47</td>\n",
       "    </tr>\n",
       "    <tr>\n",
       "      <th>C</th>\n",
       "      <td>26.5500</td>\n",
       "      <td>100.151341</td>\n",
       "      <td>83.47500</td>\n",
       "      <td>263.0000</td>\n",
       "      <td>59</td>\n",
       "    </tr>\n",
       "    <tr>\n",
       "      <th>D</th>\n",
       "      <td>12.8750</td>\n",
       "      <td>57.244576</td>\n",
       "      <td>53.10000</td>\n",
       "      <td>113.2750</td>\n",
       "      <td>33</td>\n",
       "    </tr>\n",
       "    <tr>\n",
       "      <th>E</th>\n",
       "      <td>8.0500</td>\n",
       "      <td>46.026694</td>\n",
       "      <td>45.18125</td>\n",
       "      <td>134.5000</td>\n",
       "      <td>32</td>\n",
       "    </tr>\n",
       "    <tr>\n",
       "      <th>F</th>\n",
       "      <td>7.6500</td>\n",
       "      <td>18.696792</td>\n",
       "      <td>13.00000</td>\n",
       "      <td>39.0000</td>\n",
       "      <td>13</td>\n",
       "    </tr>\n",
       "    <tr>\n",
       "      <th>G</th>\n",
       "      <td>10.4625</td>\n",
       "      <td>13.581250</td>\n",
       "      <td>13.58125</td>\n",
       "      <td>16.7000</td>\n",
       "      <td>4</td>\n",
       "    </tr>\n",
       "  </tbody>\n",
       "</table>\n",
       "</div>"
      ],
      "text/plain": [
       "          min        mean    median       max  count\n",
       "deck                                                \n",
       "A      0.0000   39.623887  35.50000   81.8583     15\n",
       "B      0.0000  113.505764  80.00000  512.3292     47\n",
       "C     26.5500  100.151341  83.47500  263.0000     59\n",
       "D     12.8750   57.244576  53.10000  113.2750     33\n",
       "E      8.0500   46.026694  45.18125  134.5000     32\n",
       "F      7.6500   18.696792  13.00000   39.0000     13\n",
       "G     10.4625   13.581250  13.58125   16.7000      4"
      ]
     },
     "execution_count": 9,
     "metadata": {},
     "output_type": "execute_result"
    }
   ],
   "source": [
    "# can we use fare to impute deck? probably not!\n",
    "data.groupby('deck')['fare'].agg(['min', 'mean', 'median', 'max', 'count'])"
   ]
  },
  {
   "cell_type": "code",
   "execution_count": 10,
   "id": "assigned-indonesian",
   "metadata": {},
   "outputs": [
    {
     "data": {
      "text/plain": [
       "missing    688\n",
       "C           59\n",
       "B           47\n",
       "D           33\n",
       "E           32\n",
       "A           15\n",
       "F           13\n",
       "G            4\n",
       "Name: deck, dtype: int64"
      ]
     },
     "execution_count": 10,
     "metadata": {},
     "output_type": "execute_result"
    }
   ],
   "source": [
    "# let's code the missing deck values as 'missing'\n",
    "data['deck'] = pd.Series('missing', index=data.index).where(\n",
    "        data['deck'].isna(), other=data['deck'])\n",
    "data['deck'].value_counts()"
   ]
  },
  {
   "cell_type": "markdown",
   "id": "about-philosophy",
   "metadata": {},
   "source": [
    "### fares"
   ]
  },
  {
   "cell_type": "code",
   "execution_count": 11,
   "id": "municipal-maintenance",
   "metadata": {},
   "outputs": [
    {
     "name": "stdout",
     "output_type": "stream",
     "text": [
      "Number of no fare passengers: 15\n",
      "Age of no-fare passengers:  [36. 40. 25. nan 19. nan nan nan 49. nan nan nan 39. nan 38.]\n",
      "Passenger class of no-fare passengers:  [3 1 3 2 3 2 2 2 3 1 2 2 1 1 1]\n",
      "Alone-ness of no-fare passengers:  [ True  True  True  True  True  True  True  True  True  True  True  True\n",
      "  True  True  True]\n"
     ]
    }
   ],
   "source": [
    "# Missing fares information?\n",
    "fare = data[\"fare\"]\n",
    "print('Number of no fare passengers: '\n",
    "      f'{fare[fare == 0].count()}') \n",
    "print('Age of no-fare passengers: ', \n",
    "      data[data['fare'] == 0]['age'].values)\n",
    "print('Passenger class of no-fare passengers: ', \n",
    "      data[data['fare'] == 0]['pclass'].values)\n",
    "print('Alone-ness of no-fare passengers: ', \n",
    "      data[data['fare'] == 0]['alone'].values)\n",
    "\n",
    "# the above suggests zero fares is missing data\n",
    "# let's just ignore"
   ]
  },
  {
   "cell_type": "code",
   "execution_count": 12,
   "id": "blank-rotation",
   "metadata": {},
   "outputs": [
    {
     "data": {
      "text/plain": [
       "<AxesSubplot:xlabel='fare', ylabel='Count'>"
      ]
     },
     "execution_count": 12,
     "metadata": {},
     "output_type": "execute_result"
    },
    {
     "data": {
      "image/png": "[encoded data removed]",
      "text/plain": [
       "<Figure size 432x288 with 1 Axes>"
      ]
     },
     "metadata": {
      "needs_background": "light"
     },
     "output_type": "display_data"
    }
   ],
   "source": [
    "sns.histplot(data['fare'], binwidth=5)"
   ]
  },
  {
   "cell_type": "markdown",
   "id": "bottom-county",
   "metadata": {},
   "source": [
    "### duplicate columns"
   ]
  },
  {
   "cell_type": "code",
   "execution_count": 13,
   "id": "graduate-vermont",
   "metadata": {},
   "outputs": [],
   "source": [
    "# A number of columns have the same information in different\n",
    "# formats - so we will drop these duplicates\n",
    "potential_duplicates = ['who', 'adult_male', 'alive', \n",
    "                        'embarked', 'class', 'age',\n",
    "                        'alone',]\n",
    "dropable = []\n",
    "for d in potential_duplicates:\n",
    "    if d in data.columns:\n",
    "        dropable.append(d)\n",
    "data = data.drop(columns=dropable)"
   ]
  },
  {
   "cell_type": "markdown",
   "id": "ultimate-haiti",
   "metadata": {},
   "source": [
    "### remaining missing data treatment"
   ]
  },
  {
   "cell_type": "code",
   "execution_count": 14,
   "id": "stuck-pharmaceutical",
   "metadata": {},
   "outputs": [
    {
     "name": "stdout",
     "output_type": "stream",
     "text": [
      "<class 'pandas.core.frame.DataFrame'>\n",
      "Int64Index: 889 entries, 0 to 890\n",
      "Data columns (total 9 columns):\n",
      " #   Column       Non-Null Count  Dtype  \n",
      "---  ------       --------------  -----  \n",
      " 0   survived     889 non-null    int64  \n",
      " 1   pclass       889 non-null    int64  \n",
      " 2   sex          889 non-null    object \n",
      " 3   sibsp        889 non-null    int64  \n",
      " 4   parch        889 non-null    int64  \n",
      " 5   fare         889 non-null    float64\n",
      " 6   deck         889 non-null    object \n",
      " 7   embark_town  889 non-null    object \n",
      " 8   age_cat      889 non-null    object \n",
      "dtypes: float64(1), int64(4), object(4)\n",
      "memory usage: 69.5+ KB\n"
     ]
    }
   ],
   "source": [
    "# handle remaining missing data by exclusion \n",
    "data = data.dropna(axis='index', how='any')\n",
    "data.info()"
   ]
  },
  {
   "cell_type": "code",
   "execution_count": 15,
   "id": "smooth-episode",
   "metadata": {},
   "outputs": [
    {
     "data": {
      "text/html": [
       "<div>\n",
       "<style scoped>\n",
       "    .dataframe tbody tr th:only-of-type {\n",
       "        vertical-align: middle;\n",
       "    }\n",
       "\n",
       "    .dataframe tbody tr th {\n",
       "        vertical-align: top;\n",
       "    }\n",
       "\n",
       "    .dataframe thead th {\n",
       "        text-align: right;\n",
       "    }\n",
       "</style>\n",
       "<table border=\"1\" class=\"dataframe\">\n",
       "  <thead>\n",
       "    <tr style=\"text-align: right;\">\n",
       "      <th></th>\n",
       "      <th>survived</th>\n",
       "      <th>pclass</th>\n",
       "      <th>sex</th>\n",
       "      <th>sibsp</th>\n",
       "      <th>parch</th>\n",
       "      <th>fare</th>\n",
       "      <th>deck</th>\n",
       "      <th>embark_town</th>\n",
       "      <th>age_cat</th>\n",
       "    </tr>\n",
       "  </thead>\n",
       "  <tbody>\n",
       "    <tr>\n",
       "      <th>0</th>\n",
       "      <td>0</td>\n",
       "      <td>3</td>\n",
       "      <td>male</td>\n",
       "      <td>1</td>\n",
       "      <td>0</td>\n",
       "      <td>7.2500</td>\n",
       "      <td>missing</td>\n",
       "      <td>Southampton</td>\n",
       "      <td>working</td>\n",
       "    </tr>\n",
       "    <tr>\n",
       "      <th>1</th>\n",
       "      <td>1</td>\n",
       "      <td>1</td>\n",
       "      <td>female</td>\n",
       "      <td>1</td>\n",
       "      <td>0</td>\n",
       "      <td>71.2833</td>\n",
       "      <td>C</td>\n",
       "      <td>Cherbourg</td>\n",
       "      <td>working</td>\n",
       "    </tr>\n",
       "    <tr>\n",
       "      <th>2</th>\n",
       "      <td>1</td>\n",
       "      <td>3</td>\n",
       "      <td>female</td>\n",
       "      <td>0</td>\n",
       "      <td>0</td>\n",
       "      <td>7.9250</td>\n",
       "      <td>missing</td>\n",
       "      <td>Southampton</td>\n",
       "      <td>working</td>\n",
       "    </tr>\n",
       "    <tr>\n",
       "      <th>3</th>\n",
       "      <td>1</td>\n",
       "      <td>1</td>\n",
       "      <td>female</td>\n",
       "      <td>1</td>\n",
       "      <td>0</td>\n",
       "      <td>53.1000</td>\n",
       "      <td>C</td>\n",
       "      <td>Southampton</td>\n",
       "      <td>working</td>\n",
       "    </tr>\n",
       "    <tr>\n",
       "      <th>4</th>\n",
       "      <td>0</td>\n",
       "      <td>3</td>\n",
       "      <td>male</td>\n",
       "      <td>0</td>\n",
       "      <td>0</td>\n",
       "      <td>8.0500</td>\n",
       "      <td>missing</td>\n",
       "      <td>Southampton</td>\n",
       "      <td>working</td>\n",
       "    </tr>\n",
       "  </tbody>\n",
       "</table>\n",
       "</div>"
      ],
      "text/plain": [
       "   survived  pclass     sex  sibsp  parch     fare     deck  embark_town  \\\n",
       "0         0       3    male      1      0   7.2500  missing  Southampton   \n",
       "1         1       1  female      1      0  71.2833        C    Cherbourg   \n",
       "2         1       3  female      0      0   7.9250  missing  Southampton   \n",
       "3         1       1  female      1      0  53.1000        C  Southampton   \n",
       "4         0       3    male      0      0   8.0500  missing  Southampton   \n",
       "\n",
       "   age_cat  \n",
       "0  working  \n",
       "1  working  \n",
       "2  working  \n",
       "3  working  \n",
       "4  working  "
      ]
     },
     "execution_count": 15,
     "metadata": {},
     "output_type": "execute_result"
    }
   ],
   "source": [
    "# let's see what we have now\n",
    "data.head()"
   ]
  },
  {
   "cell_type": "markdown",
   "id": "provincial-christmas",
   "metadata": {},
   "source": [
    "### convert categorical data to dummy variables"
   ]
  },
  {
   "cell_type": "code",
   "execution_count": 16,
   "id": "chief-satisfaction",
   "metadata": {},
   "outputs": [
    {
     "name": "stdout",
     "output_type": "stream",
     "text": [
      "Southampton    644\n",
      "Cherbourg      168\n",
      "Queenstown      77\n",
      "Name: embark_town, dtype: int64 \n",
      "\n",
      "male      577\n",
      "female    312\n",
      "Name: sex, dtype: int64 \n",
      "\n"
     ]
    }
   ],
   "source": [
    "# let's look at the remaining categorical variables\n",
    "print(data['embark_town'].value_counts(), '\\n')\n",
    "print(data['sex'].value_counts(), '\\n')"
   ]
  },
  {
   "cell_type": "code",
   "execution_count": 17,
   "id": "improving-plain",
   "metadata": {},
   "outputs": [
    {
     "data": {
      "text/html": [
       "<div>\n",
       "<style scoped>\n",
       "    .dataframe tbody tr th:only-of-type {\n",
       "        vertical-align: middle;\n",
       "    }\n",
       "\n",
       "    .dataframe tbody tr th {\n",
       "        vertical-align: top;\n",
       "    }\n",
       "\n",
       "    .dataframe thead th {\n",
       "        text-align: right;\n",
       "    }\n",
       "</style>\n",
       "<table border=\"1\" class=\"dataframe\">\n",
       "  <thead>\n",
       "    <tr style=\"text-align: right;\">\n",
       "      <th></th>\n",
       "      <th>survived</th>\n",
       "      <th>pclass</th>\n",
       "      <th>sibsp</th>\n",
       "      <th>parch</th>\n",
       "      <th>fare</th>\n",
       "      <th>embarked_Cherbourg</th>\n",
       "      <th>embarked_Queenstown</th>\n",
       "      <th>embarked_Southampton</th>\n",
       "      <th>sex_female</th>\n",
       "      <th>sex_male</th>\n",
       "      <th>...</th>\n",
       "      <th>age_older</th>\n",
       "      <th>age_working</th>\n",
       "      <th>deck_A</th>\n",
       "      <th>deck_B</th>\n",
       "      <th>deck_C</th>\n",
       "      <th>deck_D</th>\n",
       "      <th>deck_E</th>\n",
       "      <th>deck_F</th>\n",
       "      <th>deck_G</th>\n",
       "      <th>deck_missing</th>\n",
       "    </tr>\n",
       "  </thead>\n",
       "  <tbody>\n",
       "    <tr>\n",
       "      <th>0</th>\n",
       "      <td>0</td>\n",
       "      <td>3</td>\n",
       "      <td>1</td>\n",
       "      <td>0</td>\n",
       "      <td>7.2500</td>\n",
       "      <td>0</td>\n",
       "      <td>0</td>\n",
       "      <td>1</td>\n",
       "      <td>0</td>\n",
       "      <td>1</td>\n",
       "      <td>...</td>\n",
       "      <td>0</td>\n",
       "      <td>1</td>\n",
       "      <td>0</td>\n",
       "      <td>0</td>\n",
       "      <td>0</td>\n",
       "      <td>0</td>\n",
       "      <td>0</td>\n",
       "      <td>0</td>\n",
       "      <td>0</td>\n",
       "      <td>1</td>\n",
       "    </tr>\n",
       "    <tr>\n",
       "      <th>1</th>\n",
       "      <td>1</td>\n",
       "      <td>1</td>\n",
       "      <td>1</td>\n",
       "      <td>0</td>\n",
       "      <td>71.2833</td>\n",
       "      <td>1</td>\n",
       "      <td>0</td>\n",
       "      <td>0</td>\n",
       "      <td>1</td>\n",
       "      <td>0</td>\n",
       "      <td>...</td>\n",
       "      <td>0</td>\n",
       "      <td>1</td>\n",
       "      <td>0</td>\n",
       "      <td>0</td>\n",
       "      <td>1</td>\n",
       "      <td>0</td>\n",
       "      <td>0</td>\n",
       "      <td>0</td>\n",
       "      <td>0</td>\n",
       "      <td>0</td>\n",
       "    </tr>\n",
       "    <tr>\n",
       "      <th>2</th>\n",
       "      <td>1</td>\n",
       "      <td>3</td>\n",
       "      <td>0</td>\n",
       "      <td>0</td>\n",
       "      <td>7.9250</td>\n",
       "      <td>0</td>\n",
       "      <td>0</td>\n",
       "      <td>1</td>\n",
       "      <td>1</td>\n",
       "      <td>0</td>\n",
       "      <td>...</td>\n",
       "      <td>0</td>\n",
       "      <td>1</td>\n",
       "      <td>0</td>\n",
       "      <td>0</td>\n",
       "      <td>0</td>\n",
       "      <td>0</td>\n",
       "      <td>0</td>\n",
       "      <td>0</td>\n",
       "      <td>0</td>\n",
       "      <td>1</td>\n",
       "    </tr>\n",
       "  </tbody>\n",
       "</table>\n",
       "<p>3 rows × 22 columns</p>\n",
       "</div>"
      ],
      "text/plain": [
       "   survived  pclass  sibsp  parch     fare  embarked_Cherbourg  \\\n",
       "0         0       3      1      0   7.2500                   0   \n",
       "1         1       1      1      0  71.2833                   1   \n",
       "2         1       3      0      0   7.9250                   0   \n",
       "\n",
       "   embarked_Queenstown  embarked_Southampton  sex_female  sex_male  ...  \\\n",
       "0                    0                     1           0         1  ...   \n",
       "1                    0                     0           1         0  ...   \n",
       "2                    0                     1           1         0  ...   \n",
       "\n",
       "   age_older  age_working  deck_A  deck_B  deck_C  deck_D  deck_E  deck_F  \\\n",
       "0          0            1       0       0       0       0       0       0   \n",
       "1          0            1       0       0       1       0       0       0   \n",
       "2          0            1       0       0       0       0       0       0   \n",
       "\n",
       "   deck_G  deck_missing  \n",
       "0       0             1  \n",
       "1       0             0  \n",
       "2       0             1  \n",
       "\n",
       "[3 rows x 22 columns]"
      ]
     },
     "execution_count": 17,
     "metadata": {},
     "output_type": "execute_result"
    }
   ],
   "source": [
    "# convert all categories to numeric dummy value columns\n",
    "# - first, create some dummy value columns\n",
    "embarked_dummy = pd.get_dummies(data['embark_town'])\n",
    "embarked_dummy.columns = 'embarked_' + embarked_dummy.columns\n",
    "sex_dummy = pd.get_dummies(data['sex'])\n",
    "sex_dummy.columns = 'sex_' + sex_dummy.columns\n",
    "age_dummy = pd.get_dummies(data['age_cat'])\n",
    "age_dummy.columns = 'age_' + age_dummy.columns\n",
    "deck_dummy = pd.get_dummies(data['deck'])\n",
    "deck_dummy.columns = 'deck_' + deck_dummy.columns\n",
    "\n",
    "# - next, attach these to the dataframe\n",
    "data_dummy = pd.concat([data, embarked_dummy, sex_dummy, \n",
    "                        age_dummy, deck_dummy], \n",
    "                       axis='columns')\n",
    "\n",
    "# - finally, drop original category columns\n",
    "data_dummy = data_dummy.drop(columns=['embark_town', 'sex', \n",
    "                                      'age_cat', 'deck'])\n",
    "data_dummy.head(3)"
   ]
  },
  {
   "cell_type": "markdown",
   "id": "funny-spain",
   "metadata": {},
   "source": [
    "### Correlation matrix heatmap"
   ]
  },
  {
   "cell_type": "code",
   "execution_count": 18,
   "id": "fatal-credit",
   "metadata": {},
   "outputs": [
    {
     "data": {
      "text/plain": [
       "<AxesSubplot:>"
      ]
     },
     "execution_count": 18,
     "metadata": {},
     "output_type": "execute_result"
    },
    {
     "data": {
      "image/png": "[encoded data removed]",
      "text/plain": [
       "<Figure size 432x288 with 2 Axes>"
      ]
     },
     "metadata": {
      "needs_background": "light"
     },
     "output_type": "display_data"
    }
   ],
   "source": [
    "# correlation heatmap\n",
    "sns.heatmap(data_dummy.corr(), \n",
    "            cmap='coolwarm',\n",
    "            xticklabels=True, # want them all printed\n",
    "            yticklabels=True)"
   ]
  },
  {
   "cell_type": "markdown",
   "id": "classified-playback",
   "metadata": {},
   "source": [
    "## Classification"
   ]
  },
  {
   "cell_type": "code",
   "execution_count": 19,
   "id": "pressing-nancy",
   "metadata": {},
   "outputs": [],
   "source": [
    "# separate the data into x and y values\n",
    "x = data_dummy.drop('survived', axis='columns').values\n",
    "y = data_dummy['survived'].values"
   ]
  },
  {
   "cell_type": "code",
   "execution_count": 20,
   "id": "extra-equipment",
   "metadata": {},
   "outputs": [],
   "source": [
    "# split the data into 70% train and 30% test\n",
    "from sklearn.model_selection import train_test_split\n",
    "x_train, x_test, y_train, y_test = (\n",
    "    train_test_split(x, y, test_size=0.3, random_state=0)\n",
    ")"
   ]
  },
  {
   "cell_type": "code",
   "execution_count": 21,
   "id": "greenhouse-particle",
   "metadata": {},
   "outputs": [],
   "source": [
    "# tabulate the results in a dictionary\n",
    "results = {}"
   ]
  },
  {
   "cell_type": "markdown",
   "id": "mineral-conference",
   "metadata": {},
   "source": [
    "### Decision tree classifier"
   ]
  },
  {
   "cell_type": "code",
   "execution_count": 22,
   "id": "smaller-prototype",
   "metadata": {},
   "outputs": [
    {
     "data": {
      "text/plain": [
       "0.7640449438202247"
      ]
     },
     "execution_count": 22,
     "metadata": {},
     "output_type": "execute_result"
    }
   ],
   "source": [
    "from sklearn import tree\n",
    "dtc = tree.DecisionTreeClassifier(max_depth=5)       # build\n",
    "dtc.fit(x_train, y_train)                            # fit\n",
    "results['Decision Tree'] = dtc.score(x_test, y_test) # predict\n",
    "results['Decision Tree']"
   ]
  },
  {
   "cell_type": "markdown",
   "id": "dated-twins",
   "metadata": {},
   "source": [
    "### Random forest classifier"
   ]
  },
  {
   "cell_type": "code",
   "execution_count": 23,
   "id": "accredited-muslim",
   "metadata": {},
   "outputs": [
    {
     "data": {
      "text/plain": [
       "0.7940074906367042"
      ]
     },
     "execution_count": 23,
     "metadata": {},
     "output_type": "execute_result"
    }
   ],
   "source": [
    "from sklearn.ensemble import RandomForestClassifier\n",
    "rfc = RandomForestClassifier(n_estimators=100)          # build\n",
    "rfc.fit(x_train, y_train)                               # fit\n",
    "results['Random Forest'] = rfc.score(x_test, y_test)    # predict\n",
    "results['Random Forest']"
   ]
  },
  {
   "cell_type": "markdown",
   "id": "colored-litigation",
   "metadata": {},
   "source": [
    "### Logistic regression"
   ]
  },
  {
   "cell_type": "code",
   "execution_count": 24,
   "id": "fifty-jewel",
   "metadata": {},
   "outputs": [
    {
     "data": {
      "text/plain": [
       "0.7827715355805244"
      ]
     },
     "execution_count": 24,
     "metadata": {},
     "output_type": "execute_result"
    }
   ],
   "source": [
    "from sklearn.linear_model import LogisticRegression\n",
    "lrc = LogisticRegression(max_iter=1000)                 # build\n",
    "lrc.fit(x_train, y_train)                               # fit\n",
    "results['Logistic Regr'] = lrc.score(x_test, y_test)\n",
    "results['Logistic Regr'] "
   ]
  },
  {
   "cell_type": "markdown",
   "id": "applied-equity",
   "metadata": {},
   "source": [
    "### Gradient boosting classifier"
   ]
  },
  {
   "cell_type": "code",
   "execution_count": 25,
   "id": "enclosed-victorian",
   "metadata": {},
   "outputs": [
    {
     "data": {
      "text/plain": [
       "0.8089887640449438"
      ]
     },
     "execution_count": 25,
     "metadata": {},
     "output_type": "execute_result"
    }
   ],
   "source": [
    "from sklearn.ensemble import GradientBoostingClassifier\n",
    "gbc = GradientBoostingClassifier(n_estimators=50)\n",
    "gbc.fit(x_train, y_train)                               # fit\n",
    "results['Gradient Boosting'] = gbc.score(x_test, y_test)\n",
    "results['Gradient Boosting']"
   ]
  },
  {
   "cell_type": "markdown",
   "id": "moral-command",
   "metadata": {},
   "source": [
    "### Naive Bayes classifier"
   ]
  },
  {
   "cell_type": "code",
   "execution_count": 26,
   "id": "animal-trash",
   "metadata": {},
   "outputs": [
    {
     "data": {
      "text/plain": [
       "0.704119850187266"
      ]
     },
     "execution_count": 26,
     "metadata": {},
     "output_type": "execute_result"
    }
   ],
   "source": [
    "from sklearn.naive_bayes import GaussianNB\n",
    "nbc = GaussianNB()\n",
    "nbc.fit(x_train, y_train)                               # fit\n",
    "results['Naive Bayes'] = nbc.score(x_test, y_test)  \n",
    "results['Naive Bayes']"
   ]
  },
  {
   "cell_type": "markdown",
   "id": "floating-american",
   "metadata": {},
   "source": [
    "### K-Nearest-Neighbor classifier"
   ]
  },
  {
   "cell_type": "code",
   "execution_count": 27,
   "id": "french-addiction",
   "metadata": {},
   "outputs": [
    {
     "data": {
      "text/plain": [
       "0.7153558052434457"
      ]
     },
     "execution_count": 27,
     "metadata": {},
     "output_type": "execute_result"
    }
   ],
   "source": [
    "from sklearn.neighbors import KNeighborsClassifier\n",
    "knn = KNeighborsClassifier(n_neighbors=2)\n",
    "knn.fit(x_train, y_train)                               # fit\n",
    "results['KNN'] = knn.score(x_test, y_test)  \n",
    "results['KNN']"
   ]
  },
  {
   "cell_type": "markdown",
   "id": "suspended-fifth",
   "metadata": {},
   "source": [
    "### SVM classifier"
   ]
  },
  {
   "cell_type": "code",
   "execution_count": 28,
   "id": "affected-belly",
   "metadata": {},
   "outputs": [
    {
     "data": {
      "text/plain": [
       "0.7715355805243446"
      ]
     },
     "execution_count": 28,
     "metadata": {},
     "output_type": "execute_result"
    }
   ],
   "source": [
    "from sklearn.svm import SVC\n",
    "svc = SVC(probability=True, kernel='linear')\n",
    "svc.fit(x_train, y_train)  \n",
    "results['Support-vector machine'] = svc.score(x_test, y_test) \n",
    "results['Support-vector machine']"
   ]
  },
  {
   "cell_type": "markdown",
   "id": "outdoor-tennis",
   "metadata": {},
   "source": [
    "## Conclusion"
   ]
  },
  {
   "cell_type": "code",
   "execution_count": 29,
   "id": "cooked-comfort",
   "metadata": {},
   "outputs": [
    {
     "data": {
      "text/plain": [
       "Gradient Boosting         0.808989\n",
       "Random Forest             0.794007\n",
       "Logistic Regr             0.782772\n",
       "Support-vector machine    0.771536\n",
       "Decision Tree             0.764045\n",
       "KNN                       0.715356\n",
       "Naive Bayes               0.704120\n",
       "dtype: float64"
      ]
     },
     "execution_count": 29,
     "metadata": {},
     "output_type": "execute_result"
    }
   ],
   "source": [
    "pd.Series(results).sort_values(ascending=False)"
   ]
  },
  {
   "cell_type": "code",
   "execution_count": null,
   "id": "alleged-exposure",
   "metadata": {},
   "outputs": [],
   "source": []
  }
 ],
 "metadata": {
  "kernelspec": {
   "display_name": "Python 3",
   "language": "python",
   "name": "python3"
  },
  "language_info": {
   "codemirror_mode": {
    "name": "ipython",
    "version": 3
   },
   "file_extension": ".py",
   "mimetype": "text/x-python",
   "name": "python",
   "nbconvert_exporter": "python",
   "pygments_lexer": "ipython3",
   "version": "3.8.6"
  },
  "toc": {
   "base_numbering": 1,
   "nav_menu": {},
   "number_sections": true,
   "sideBar": true,
   "skip_h1_title": true,
   "title_cell": "Table of Contents",
   "title_sidebar": "Contents",
   "toc_cell": true,
   "toc_position": {
    "height": "calc(100% - 180px)",
    "left": "10px",
    "top": "150px",
    "width": "198.094px"
   },
   "toc_section_display": true,
   "toc_window_display": true
  }
 },
 "nbformat": 4,
 "nbformat_minor": 5
}
